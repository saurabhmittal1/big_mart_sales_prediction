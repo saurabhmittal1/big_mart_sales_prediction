{
  "nbformat": 4,
  "nbformat_minor": 0,
  "metadata": {
    "colab": {
      "name": "Big_Mart_Sales.ipynb",
      "provenance": [],
      "collapsed_sections": []
    },
    "kernelspec": {
      "name": "python3",
      "display_name": "Python 3"
    }
  },
  "cells": [
    {
      "cell_type": "code",
      "metadata": {
        "id": "jT-6NTRtwEm_",
        "colab_type": "code",
        "colab": {}
      },
      "source": [
        "# Importing main Libraries\n",
        "\n",
        "import pandas as pd\n",
        "import numpy as np\n",
        "import matplotlib.pyplot as plt"
      ],
      "execution_count": 85,
      "outputs": []
    },
    {
      "cell_type": "code",
      "metadata": {
        "id": "5TlXqg2hwdAD",
        "colab_type": "code",
        "colab": {}
      },
      "source": [
        "#Importing training dataset\n",
        "\n",
        "train = pd.read_csv(\"/content/drive/My Drive/Dataset/Big Mart Sales/Big Mart Sales.csv\")"
      ],
      "execution_count": 86,
      "outputs": []
    },
    {
      "cell_type": "code",
      "metadata": {
        "id": "QfkkZXraO9Oh",
        "colab_type": "code",
        "colab": {}
      },
      "source": [
        "#Importing test dataset\n",
        "\n",
        "test = pd.read_csv(\"/content/drive/My Drive/Dataset/Big Mart Sales/Test.csv\")"
      ],
      "execution_count": 87,
      "outputs": []
    },
    {
      "cell_type": "code",
      "metadata": {
        "id": "F06Bz1zJatxD",
        "colab_type": "code",
        "colab": {
          "base_uri": "https://localhost:8080/",
          "height": 34
        },
        "outputId": "e7504ef5-ecb1-45f0-bb40-cf1124a8533c"
      },
      "source": [
        "data = pd.concat([train,test],ignore_index=True)\n",
        "data.shape"
      ],
      "execution_count": 88,
      "outputs": [
        {
          "output_type": "execute_result",
          "data": {
            "text/plain": [
              "(14204, 12)"
            ]
          },
          "metadata": {
            "tags": []
          },
          "execution_count": 88
        }
      ]
    },
    {
      "cell_type": "code",
      "metadata": {
        "id": "uAidt5UlbGR_",
        "colab_type": "code",
        "colab": {
          "base_uri": "https://localhost:8080/",
          "height": 51
        },
        "outputId": "2da3bca2-e829-46f4-ddc6-126793841327"
      },
      "source": [
        "print(train.shape,test.shape)\n",
        "print(train.shape[0]+test.shape[0])"
      ],
      "execution_count": 89,
      "outputs": [
        {
          "output_type": "stream",
          "text": [
            "(8523, 12) (5681, 11)\n",
            "14204\n"
          ],
          "name": "stdout"
        }
      ]
    },
    {
      "cell_type": "code",
      "metadata": {
        "id": "qBqJMgdjwmKr",
        "colab_type": "code",
        "colab": {
          "base_uri": "https://localhost:8080/",
          "height": 549
        },
        "outputId": "c4f83261-32d6-4ec9-ccb8-a052157e3e6f"
      },
      "source": [
        "data.tail(10)"
      ],
      "execution_count": 90,
      "outputs": [
        {
          "output_type": "execute_result",
          "data": {
            "text/html": [
              "<div>\n",
              "<style scoped>\n",
              "    .dataframe tbody tr th:only-of-type {\n",
              "        vertical-align: middle;\n",
              "    }\n",
              "\n",
              "    .dataframe tbody tr th {\n",
              "        vertical-align: top;\n",
              "    }\n",
              "\n",
              "    .dataframe thead th {\n",
              "        text-align: right;\n",
              "    }\n",
              "</style>\n",
              "<table border=\"1\" class=\"dataframe\">\n",
              "  <thead>\n",
              "    <tr style=\"text-align: right;\">\n",
              "      <th></th>\n",
              "      <th>Item_Identifier</th>\n",
              "      <th>Item_Weight</th>\n",
              "      <th>Item_Fat_Content</th>\n",
              "      <th>Item_Visibility</th>\n",
              "      <th>Item_Type</th>\n",
              "      <th>Item_MRP</th>\n",
              "      <th>Outlet_Identifier</th>\n",
              "      <th>Outlet_Establishment_Year</th>\n",
              "      <th>Outlet_Size</th>\n",
              "      <th>Outlet_Location_Type</th>\n",
              "      <th>Outlet_Type</th>\n",
              "      <th>Item_Outlet_Sales</th>\n",
              "    </tr>\n",
              "  </thead>\n",
              "  <tbody>\n",
              "    <tr>\n",
              "      <th>14194</th>\n",
              "      <td>FDA01</td>\n",
              "      <td>15.00</td>\n",
              "      <td>reg</td>\n",
              "      <td>0.054463</td>\n",
              "      <td>Canned</td>\n",
              "      <td>59.5904</td>\n",
              "      <td>OUT049</td>\n",
              "      <td>1999</td>\n",
              "      <td>Medium</td>\n",
              "      <td>Tier 1</td>\n",
              "      <td>Supermarket Type1</td>\n",
              "      <td>NaN</td>\n",
              "    </tr>\n",
              "    <tr>\n",
              "      <th>14195</th>\n",
              "      <td>NCH42</td>\n",
              "      <td>6.86</td>\n",
              "      <td>Low Fat</td>\n",
              "      <td>0.036594</td>\n",
              "      <td>Household</td>\n",
              "      <td>231.1010</td>\n",
              "      <td>OUT049</td>\n",
              "      <td>1999</td>\n",
              "      <td>Medium</td>\n",
              "      <td>Tier 1</td>\n",
              "      <td>Supermarket Type1</td>\n",
              "      <td>NaN</td>\n",
              "    </tr>\n",
              "    <tr>\n",
              "      <th>14196</th>\n",
              "      <td>FDF46</td>\n",
              "      <td>7.07</td>\n",
              "      <td>Low Fat</td>\n",
              "      <td>0.094053</td>\n",
              "      <td>Snack Foods</td>\n",
              "      <td>116.0834</td>\n",
              "      <td>OUT018</td>\n",
              "      <td>2009</td>\n",
              "      <td>Medium</td>\n",
              "      <td>Tier 3</td>\n",
              "      <td>Supermarket Type2</td>\n",
              "      <td>NaN</td>\n",
              "    </tr>\n",
              "    <tr>\n",
              "      <th>14197</th>\n",
              "      <td>DRL35</td>\n",
              "      <td>15.70</td>\n",
              "      <td>Low Fat</td>\n",
              "      <td>0.030704</td>\n",
              "      <td>Hard Drinks</td>\n",
              "      <td>43.2770</td>\n",
              "      <td>OUT046</td>\n",
              "      <td>1997</td>\n",
              "      <td>Small</td>\n",
              "      <td>Tier 1</td>\n",
              "      <td>Supermarket Type1</td>\n",
              "      <td>NaN</td>\n",
              "    </tr>\n",
              "    <tr>\n",
              "      <th>14198</th>\n",
              "      <td>FDW46</td>\n",
              "      <td>13.00</td>\n",
              "      <td>Regular</td>\n",
              "      <td>0.070411</td>\n",
              "      <td>Snack Foods</td>\n",
              "      <td>63.4484</td>\n",
              "      <td>OUT049</td>\n",
              "      <td>1999</td>\n",
              "      <td>Medium</td>\n",
              "      <td>Tier 1</td>\n",
              "      <td>Supermarket Type1</td>\n",
              "      <td>NaN</td>\n",
              "    </tr>\n",
              "    <tr>\n",
              "      <th>14199</th>\n",
              "      <td>FDB58</td>\n",
              "      <td>10.50</td>\n",
              "      <td>Regular</td>\n",
              "      <td>0.013496</td>\n",
              "      <td>Snack Foods</td>\n",
              "      <td>141.3154</td>\n",
              "      <td>OUT046</td>\n",
              "      <td>1997</td>\n",
              "      <td>Small</td>\n",
              "      <td>Tier 1</td>\n",
              "      <td>Supermarket Type1</td>\n",
              "      <td>NaN</td>\n",
              "    </tr>\n",
              "    <tr>\n",
              "      <th>14200</th>\n",
              "      <td>FDD47</td>\n",
              "      <td>7.60</td>\n",
              "      <td>Regular</td>\n",
              "      <td>0.142991</td>\n",
              "      <td>Starchy Foods</td>\n",
              "      <td>169.1448</td>\n",
              "      <td>OUT018</td>\n",
              "      <td>2009</td>\n",
              "      <td>Medium</td>\n",
              "      <td>Tier 3</td>\n",
              "      <td>Supermarket Type2</td>\n",
              "      <td>NaN</td>\n",
              "    </tr>\n",
              "    <tr>\n",
              "      <th>14201</th>\n",
              "      <td>NCO17</td>\n",
              "      <td>10.00</td>\n",
              "      <td>Low Fat</td>\n",
              "      <td>0.073529</td>\n",
              "      <td>Health and Hygiene</td>\n",
              "      <td>118.7440</td>\n",
              "      <td>OUT045</td>\n",
              "      <td>2002</td>\n",
              "      <td>NaN</td>\n",
              "      <td>Tier 2</td>\n",
              "      <td>Supermarket Type1</td>\n",
              "      <td>NaN</td>\n",
              "    </tr>\n",
              "    <tr>\n",
              "      <th>14202</th>\n",
              "      <td>FDJ26</td>\n",
              "      <td>15.30</td>\n",
              "      <td>Regular</td>\n",
              "      <td>0.000000</td>\n",
              "      <td>Canned</td>\n",
              "      <td>214.6218</td>\n",
              "      <td>OUT017</td>\n",
              "      <td>2007</td>\n",
              "      <td>NaN</td>\n",
              "      <td>Tier 2</td>\n",
              "      <td>Supermarket Type1</td>\n",
              "      <td>NaN</td>\n",
              "    </tr>\n",
              "    <tr>\n",
              "      <th>14203</th>\n",
              "      <td>FDU37</td>\n",
              "      <td>9.50</td>\n",
              "      <td>Regular</td>\n",
              "      <td>0.104720</td>\n",
              "      <td>Canned</td>\n",
              "      <td>79.7960</td>\n",
              "      <td>OUT045</td>\n",
              "      <td>2002</td>\n",
              "      <td>NaN</td>\n",
              "      <td>Tier 2</td>\n",
              "      <td>Supermarket Type1</td>\n",
              "      <td>NaN</td>\n",
              "    </tr>\n",
              "  </tbody>\n",
              "</table>\n",
              "</div>"
            ],
            "text/plain": [
              "      Item_Identifier  Item_Weight  ...        Outlet_Type  Item_Outlet_Sales\n",
              "14194           FDA01        15.00  ...  Supermarket Type1                NaN\n",
              "14195           NCH42         6.86  ...  Supermarket Type1                NaN\n",
              "14196           FDF46         7.07  ...  Supermarket Type2                NaN\n",
              "14197           DRL35        15.70  ...  Supermarket Type1                NaN\n",
              "14198           FDW46        13.00  ...  Supermarket Type1                NaN\n",
              "14199           FDB58        10.50  ...  Supermarket Type1                NaN\n",
              "14200           FDD47         7.60  ...  Supermarket Type2                NaN\n",
              "14201           NCO17        10.00  ...  Supermarket Type1                NaN\n",
              "14202           FDJ26        15.30  ...  Supermarket Type1                NaN\n",
              "14203           FDU37         9.50  ...  Supermarket Type1                NaN\n",
              "\n",
              "[10 rows x 12 columns]"
            ]
          },
          "metadata": {
            "tags": []
          },
          "execution_count": 90
        }
      ]
    },
    {
      "cell_type": "code",
      "metadata": {
        "id": "lVyBg6S1w0Gp",
        "colab_type": "code",
        "colab": {
          "base_uri": "https://localhost:8080/",
          "height": 34
        },
        "outputId": "0760f924-e2d6-43f9-eb94-6261e00ae860"
      },
      "source": [
        "data.shape"
      ],
      "execution_count": 91,
      "outputs": [
        {
          "output_type": "execute_result",
          "data": {
            "text/plain": [
              "(14204, 12)"
            ]
          },
          "metadata": {
            "tags": []
          },
          "execution_count": 91
        }
      ]
    },
    {
      "cell_type": "code",
      "metadata": {
        "id": "Hz7qzooVwnjj",
        "colab_type": "code",
        "colab": {
          "base_uri": "https://localhost:8080/",
          "height": 340
        },
        "outputId": "e0e7793a-6bf6-485a-e666-f99e6354f67d"
      },
      "source": [
        "data.info()"
      ],
      "execution_count": 92,
      "outputs": [
        {
          "output_type": "stream",
          "text": [
            "<class 'pandas.core.frame.DataFrame'>\n",
            "RangeIndex: 14204 entries, 0 to 14203\n",
            "Data columns (total 12 columns):\n",
            " #   Column                     Non-Null Count  Dtype  \n",
            "---  ------                     --------------  -----  \n",
            " 0   Item_Identifier            14204 non-null  object \n",
            " 1   Item_Weight                11765 non-null  float64\n",
            " 2   Item_Fat_Content           14204 non-null  object \n",
            " 3   Item_Visibility            14204 non-null  float64\n",
            " 4   Item_Type                  14204 non-null  object \n",
            " 5   Item_MRP                   14204 non-null  float64\n",
            " 6   Outlet_Identifier          14204 non-null  object \n",
            " 7   Outlet_Establishment_Year  14204 non-null  int64  \n",
            " 8   Outlet_Size                10188 non-null  object \n",
            " 9   Outlet_Location_Type       14204 non-null  object \n",
            " 10  Outlet_Type                14204 non-null  object \n",
            " 11  Item_Outlet_Sales          8523 non-null   float64\n",
            "dtypes: float64(4), int64(1), object(7)\n",
            "memory usage: 1.3+ MB\n"
          ],
          "name": "stdout"
        }
      ]
    },
    {
      "cell_type": "code",
      "metadata": {
        "id": "1E3G03p6B_jl",
        "colab_type": "code",
        "colab": {
          "base_uri": "https://localhost:8080/",
          "height": 1000
        },
        "outputId": "dafda1e1-7416-4824-87e4-91fbf060cef4"
      },
      "source": [
        "#Extracting the unique values of each columns\n",
        "\n",
        "for i in data.columns:\n",
        "    print(i,\" : distinct_value\")\n",
        "    print(data[i].nunique(), \":No of unique values\")\n",
        "    print(data[i].unique())\n",
        "    print(\"-\"*30)\n",
        "    print(\"\")"
      ],
      "execution_count": 93,
      "outputs": [
        {
          "output_type": "stream",
          "text": [
            "Item_Identifier  : distinct_value\n",
            "1559 :No of unique values\n",
            "['FDA15' 'DRC01' 'FDN15' ... 'NCF55' 'NCW30' 'NCW05']\n",
            "------------------------------\n",
            "\n",
            "Item_Weight  : distinct_value\n",
            "415 :No of unique values\n",
            "[ 9.3    5.92  17.5   19.2    8.93  10.395 13.65     nan 16.2   11.8\n",
            " 18.5   15.1   17.6   16.35   9.    13.35  18.85  14.6   13.85  13.\n",
            "  7.645 11.65   5.925 19.25  18.6   18.7   17.85  10.     8.85   9.8\n",
            " 13.6   21.35  12.15   6.42  19.6   15.85   7.39  10.195  9.895 10.895\n",
            "  7.905  9.195  8.365  7.97  17.7   19.35   8.645 15.6   18.25   7.855\n",
            "  7.825  8.39  12.85  19.     5.905  7.76  16.75  15.5    6.055  6.305\n",
            " 20.85  20.75   8.895 19.7    8.75  13.3    8.31  19.75  17.1   10.5\n",
            "  6.635 14.15   8.89   9.1    7.5   16.85   7.485 11.6   12.65  20.25\n",
            "  8.6   12.6    8.88  20.5   13.5    7.235  6.92   8.02  12.8   16.6\n",
            " 14.    16.    21.25   7.365 18.35   5.465  7.27   6.155 19.5   15.2\n",
            " 14.5   13.1   12.3   11.1   11.3    5.75  11.35   6.525 10.3    5.78\n",
            " 11.85  18.75   5.26  16.1    9.5   13.8   14.65   6.67   6.11  17.2\n",
            "  6.32   4.88   5.425 14.1    7.55  17.25  12.    10.1    7.785 13.15\n",
            "  8.5    7.63   9.285  7.975 15.7    8.985 20.35   6.59  19.85   6.26\n",
            " 18.2    8.695  7.075  8.195  7.09   6.095  6.15   9.395 15.75   7.475\n",
            "  6.445 19.1   15.    16.7    7.07   6.48   9.695 11.15   9.6   20.7\n",
            "  5.5    7.895 17.35   7.285  6.17  11.395  7.71  12.1   14.35   8.1\n",
            "  8.05  16.5    6.785  7.575  7.47  15.25   7.605 18.    21.2    8.97\n",
            " 10.6    6.865 10.8   15.15  18.1    6.655 20.1    7.935 15.35  12.35\n",
            "  6.85   8.775 14.85   7.84  12.5    8.325  5.765  5.985 14.3    6.135\n",
            "  8.51   6.65   5.695  6.36   8.3    7.56   8.71   6.695 14.8   17.75\n",
            "  8.575  6.57   8.68   5.63   9.13   6.715  5.82   7.93   5.     7.445\n",
            "  6.675  8.18   6.98   7.435 20.6    8.355  8.975 20.2    5.655  5.175\n",
            " 20.     7.67   4.785  8.395  6.175  8.21   5.845  7.17   8.785  7.89\n",
            "  5.32   5.03   8.945  6.28   7.565  9.31   7.02   5.46   6.13   6.55\n",
            " 17.    16.25   5.15   7.865  6.575  7.06   5.785  7.42   6.235  6.75\n",
            "  5.86   5.035  6.38   5.675 11.5   21.    21.1    4.61   7.     6.405\n",
            " 14.7    7.68   8.185  8.655 10.85   8.42   7.85   4.59   7.51  11.\n",
            "  6.71  14.75   7.59   5.155  6.365  8.235  5.365  8.485  7.535  4.92\n",
            "  6.385  8.26   7.945  8.63   9.21   6.965  8.905  7.21   7.3    9.27\n",
            " 10.695  6.215  7.405  7.72   6.115  6.035  6.78  15.3    7.105  7.52\n",
            "  4.805  6.425  7.6    6.61   7.325  8.115  5.94   5.635  7.35   5.825\n",
            "  6.63   7.05   8.315  6.8    7.035  8.96   5.51   8.43   8.27   7.81\n",
            "  6.885  5.44   5.405  4.635 10.65   5.735  6.465  8.84   7.75   6.765\n",
            "  9.065  7.655  4.615  8.76   7.1    6.195  5.615  8.52   7.26   6.825\n",
            "  5.325  5.59   5.88   5.19   6.985  9.06   6.69   8.615  7.275  6.96\n",
            "  9.17   8.155  5.73   8.935  8.92   7.36   7.64   5.34   7.22   6.615\n",
            "  6.76   6.3    5.98   8.06   6.44   5.095  8.8    6.325  7.31   9.035\n",
            "  9.105  7.145  4.905  4.555  8.     7.315  6.89   5.945  6.86   6.935\n",
            "  6.03   7.725  5.885  7.155  6.46   5.48   8.01   5.8    5.305  6.905\n",
            "  7.96   5.11   8.77   7.685  8.275  8.38   8.35   9.42   6.775  6.4\n",
            "  6.895  5.485  6.52   8.67   5.21   5.4  ]\n",
            "------------------------------\n",
            "\n",
            "Item_Fat_Content  : distinct_value\n",
            "5 :No of unique values\n",
            "['Low Fat' 'Regular' 'low fat' 'LF' 'reg']\n",
            "------------------------------\n",
            "\n",
            "Item_Visibility  : distinct_value\n",
            "13006 :No of unique values\n",
            "[0.0160473  0.01927822 0.01676007 ... 0.1429909  0.07352856 0.10472015]\n",
            "------------------------------\n",
            "\n",
            "Item_Type  : distinct_value\n",
            "16 :No of unique values\n",
            "['Dairy' 'Soft Drinks' 'Meat' 'Fruits and Vegetables' 'Household'\n",
            " 'Baking Goods' 'Snack Foods' 'Frozen Foods' 'Breakfast'\n",
            " 'Health and Hygiene' 'Hard Drinks' 'Canned' 'Breads' 'Starchy Foods'\n",
            " 'Others' 'Seafood']\n",
            "------------------------------\n",
            "\n",
            "Item_MRP  : distinct_value\n",
            "8052 :No of unique values\n",
            "[249.8092  48.2692 141.618  ...  72.8696  82.125  188.053 ]\n",
            "------------------------------\n",
            "\n",
            "Outlet_Identifier  : distinct_value\n",
            "10 :No of unique values\n",
            "['OUT049' 'OUT018' 'OUT010' 'OUT013' 'OUT027' 'OUT045' 'OUT017' 'OUT046'\n",
            " 'OUT035' 'OUT019']\n",
            "------------------------------\n",
            "\n",
            "Outlet_Establishment_Year  : distinct_value\n",
            "9 :No of unique values\n",
            "[1999 2009 1998 1987 1985 2002 2007 1997 2004]\n",
            "------------------------------\n",
            "\n",
            "Outlet_Size  : distinct_value\n",
            "3 :No of unique values\n",
            "['Medium' nan 'High' 'Small']\n",
            "------------------------------\n",
            "\n",
            "Outlet_Location_Type  : distinct_value\n",
            "3 :No of unique values\n",
            "['Tier 1' 'Tier 3' 'Tier 2']\n",
            "------------------------------\n",
            "\n",
            "Outlet_Type  : distinct_value\n",
            "4 :No of unique values\n",
            "['Supermarket Type1' 'Supermarket Type2' 'Grocery Store'\n",
            " 'Supermarket Type3']\n",
            "------------------------------\n",
            "\n",
            "Item_Outlet_Sales  : distinct_value\n",
            "3493 :No of unique values\n",
            "[3735.138   443.4228 2097.27   ... 3608.636  2778.3834       nan]\n",
            "------------------------------\n",
            "\n"
          ],
          "name": "stdout"
        }
      ]
    },
    {
      "cell_type": "code",
      "metadata": {
        "id": "9lBddyKHxTlX",
        "colab_type": "code",
        "colab": {
          "base_uri": "https://localhost:8080/",
          "height": 238
        },
        "outputId": "35847f9d-af7e-4f4f-9c0a-b6f4c77d7c32"
      },
      "source": [
        "#We can see that we have some data missing\n",
        "\n",
        "round(100*(data.isna().sum())/len(data), 2)"
      ],
      "execution_count": 94,
      "outputs": [
        {
          "output_type": "execute_result",
          "data": {
            "text/plain": [
              "Item_Identifier               0.00\n",
              "Item_Weight                  17.17\n",
              "Item_Fat_Content              0.00\n",
              "Item_Visibility               0.00\n",
              "Item_Type                     0.00\n",
              "Item_MRP                      0.00\n",
              "Outlet_Identifier             0.00\n",
              "Outlet_Establishment_Year     0.00\n",
              "Outlet_Size                  28.27\n",
              "Outlet_Location_Type          0.00\n",
              "Outlet_Type                   0.00\n",
              "Item_Outlet_Sales            40.00\n",
              "dtype: float64"
            ]
          },
          "metadata": {
            "tags": []
          },
          "execution_count": 94
        }
      ]
    },
    {
      "cell_type": "code",
      "metadata": {
        "id": "PXXs9Oa6bmAW",
        "colab_type": "code",
        "colab": {
          "base_uri": "https://localhost:8080/",
          "height": 238
        },
        "outputId": "66f29981-00ec-43f0-aa3a-410ba0470364"
      },
      "source": [
        "data[data==0].sum()"
      ],
      "execution_count": 95,
      "outputs": [
        {
          "output_type": "execute_result",
          "data": {
            "text/plain": [
              "Item_Identifier              0.0\n",
              "Item_Weight                  0.0\n",
              "Item_Fat_Content             0.0\n",
              "Item_Visibility              0.0\n",
              "Item_Type                    0.0\n",
              "Item_MRP                     0.0\n",
              "Outlet_Identifier            0.0\n",
              "Outlet_Establishment_Year    0.0\n",
              "Outlet_Size                  0.0\n",
              "Outlet_Location_Type         0.0\n",
              "Outlet_Type                  0.0\n",
              "Item_Outlet_Sales            0.0\n",
              "dtype: float64"
            ]
          },
          "metadata": {
            "tags": []
          },
          "execution_count": 95
        }
      ]
    },
    {
      "cell_type": "code",
      "metadata": {
        "id": "x-LNdJIYwqmi",
        "colab_type": "code",
        "colab": {
          "base_uri": "https://localhost:8080/",
          "height": 475
        },
        "outputId": "577cad43-ceb9-45ff-ca44-6423937cc6e4"
      },
      "source": [
        "data.describe(include='all').transpose()"
      ],
      "execution_count": 96,
      "outputs": [
        {
          "output_type": "execute_result",
          "data": {
            "text/html": [
              "<div>\n",
              "<style scoped>\n",
              "    .dataframe tbody tr th:only-of-type {\n",
              "        vertical-align: middle;\n",
              "    }\n",
              "\n",
              "    .dataframe tbody tr th {\n",
              "        vertical-align: top;\n",
              "    }\n",
              "\n",
              "    .dataframe thead th {\n",
              "        text-align: right;\n",
              "    }\n",
              "</style>\n",
              "<table border=\"1\" class=\"dataframe\">\n",
              "  <thead>\n",
              "    <tr style=\"text-align: right;\">\n",
              "      <th></th>\n",
              "      <th>count</th>\n",
              "      <th>unique</th>\n",
              "      <th>top</th>\n",
              "      <th>freq</th>\n",
              "      <th>mean</th>\n",
              "      <th>std</th>\n",
              "      <th>min</th>\n",
              "      <th>25%</th>\n",
              "      <th>50%</th>\n",
              "      <th>75%</th>\n",
              "      <th>max</th>\n",
              "    </tr>\n",
              "  </thead>\n",
              "  <tbody>\n",
              "    <tr>\n",
              "      <th>Item_Identifier</th>\n",
              "      <td>14204</td>\n",
              "      <td>1559</td>\n",
              "      <td>FDV36</td>\n",
              "      <td>10</td>\n",
              "      <td>NaN</td>\n",
              "      <td>NaN</td>\n",
              "      <td>NaN</td>\n",
              "      <td>NaN</td>\n",
              "      <td>NaN</td>\n",
              "      <td>NaN</td>\n",
              "      <td>NaN</td>\n",
              "    </tr>\n",
              "    <tr>\n",
              "      <th>Item_Weight</th>\n",
              "      <td>11765</td>\n",
              "      <td>NaN</td>\n",
              "      <td>NaN</td>\n",
              "      <td>NaN</td>\n",
              "      <td>12.7929</td>\n",
              "      <td>4.6525</td>\n",
              "      <td>4.555</td>\n",
              "      <td>8.71</td>\n",
              "      <td>12.6</td>\n",
              "      <td>16.75</td>\n",
              "      <td>21.35</td>\n",
              "    </tr>\n",
              "    <tr>\n",
              "      <th>Item_Fat_Content</th>\n",
              "      <td>14204</td>\n",
              "      <td>5</td>\n",
              "      <td>Low Fat</td>\n",
              "      <td>8485</td>\n",
              "      <td>NaN</td>\n",
              "      <td>NaN</td>\n",
              "      <td>NaN</td>\n",
              "      <td>NaN</td>\n",
              "      <td>NaN</td>\n",
              "      <td>NaN</td>\n",
              "      <td>NaN</td>\n",
              "    </tr>\n",
              "    <tr>\n",
              "      <th>Item_Visibility</th>\n",
              "      <td>14204</td>\n",
              "      <td>NaN</td>\n",
              "      <td>NaN</td>\n",
              "      <td>NaN</td>\n",
              "      <td>0.0659528</td>\n",
              "      <td>0.0514586</td>\n",
              "      <td>0</td>\n",
              "      <td>0.0270357</td>\n",
              "      <td>0.0540205</td>\n",
              "      <td>0.0940373</td>\n",
              "      <td>0.328391</td>\n",
              "    </tr>\n",
              "    <tr>\n",
              "      <th>Item_Type</th>\n",
              "      <td>14204</td>\n",
              "      <td>16</td>\n",
              "      <td>Fruits and Vegetables</td>\n",
              "      <td>2013</td>\n",
              "      <td>NaN</td>\n",
              "      <td>NaN</td>\n",
              "      <td>NaN</td>\n",
              "      <td>NaN</td>\n",
              "      <td>NaN</td>\n",
              "      <td>NaN</td>\n",
              "      <td>NaN</td>\n",
              "    </tr>\n",
              "    <tr>\n",
              "      <th>Item_MRP</th>\n",
              "      <td>14204</td>\n",
              "      <td>NaN</td>\n",
              "      <td>NaN</td>\n",
              "      <td>NaN</td>\n",
              "      <td>141.005</td>\n",
              "      <td>62.0869</td>\n",
              "      <td>31.29</td>\n",
              "      <td>94.012</td>\n",
              "      <td>142.247</td>\n",
              "      <td>185.856</td>\n",
              "      <td>266.888</td>\n",
              "    </tr>\n",
              "    <tr>\n",
              "      <th>Outlet_Identifier</th>\n",
              "      <td>14204</td>\n",
              "      <td>10</td>\n",
              "      <td>OUT027</td>\n",
              "      <td>1559</td>\n",
              "      <td>NaN</td>\n",
              "      <td>NaN</td>\n",
              "      <td>NaN</td>\n",
              "      <td>NaN</td>\n",
              "      <td>NaN</td>\n",
              "      <td>NaN</td>\n",
              "      <td>NaN</td>\n",
              "    </tr>\n",
              "    <tr>\n",
              "      <th>Outlet_Establishment_Year</th>\n",
              "      <td>14204</td>\n",
              "      <td>NaN</td>\n",
              "      <td>NaN</td>\n",
              "      <td>NaN</td>\n",
              "      <td>1997.83</td>\n",
              "      <td>8.37166</td>\n",
              "      <td>1985</td>\n",
              "      <td>1987</td>\n",
              "      <td>1999</td>\n",
              "      <td>2004</td>\n",
              "      <td>2009</td>\n",
              "    </tr>\n",
              "    <tr>\n",
              "      <th>Outlet_Size</th>\n",
              "      <td>10188</td>\n",
              "      <td>3</td>\n",
              "      <td>Medium</td>\n",
              "      <td>4655</td>\n",
              "      <td>NaN</td>\n",
              "      <td>NaN</td>\n",
              "      <td>NaN</td>\n",
              "      <td>NaN</td>\n",
              "      <td>NaN</td>\n",
              "      <td>NaN</td>\n",
              "      <td>NaN</td>\n",
              "    </tr>\n",
              "    <tr>\n",
              "      <th>Outlet_Location_Type</th>\n",
              "      <td>14204</td>\n",
              "      <td>3</td>\n",
              "      <td>Tier 3</td>\n",
              "      <td>5583</td>\n",
              "      <td>NaN</td>\n",
              "      <td>NaN</td>\n",
              "      <td>NaN</td>\n",
              "      <td>NaN</td>\n",
              "      <td>NaN</td>\n",
              "      <td>NaN</td>\n",
              "      <td>NaN</td>\n",
              "    </tr>\n",
              "    <tr>\n",
              "      <th>Outlet_Type</th>\n",
              "      <td>14204</td>\n",
              "      <td>4</td>\n",
              "      <td>Supermarket Type1</td>\n",
              "      <td>9294</td>\n",
              "      <td>NaN</td>\n",
              "      <td>NaN</td>\n",
              "      <td>NaN</td>\n",
              "      <td>NaN</td>\n",
              "      <td>NaN</td>\n",
              "      <td>NaN</td>\n",
              "      <td>NaN</td>\n",
              "    </tr>\n",
              "    <tr>\n",
              "      <th>Item_Outlet_Sales</th>\n",
              "      <td>8523</td>\n",
              "      <td>NaN</td>\n",
              "      <td>NaN</td>\n",
              "      <td>NaN</td>\n",
              "      <td>2181.29</td>\n",
              "      <td>1706.5</td>\n",
              "      <td>33.29</td>\n",
              "      <td>834.247</td>\n",
              "      <td>1794.33</td>\n",
              "      <td>3101.3</td>\n",
              "      <td>13087</td>\n",
              "    </tr>\n",
              "  </tbody>\n",
              "</table>\n",
              "</div>"
            ],
            "text/plain": [
              "                           count unique  ...        75%       max\n",
              "Item_Identifier            14204   1559  ...        NaN       NaN\n",
              "Item_Weight                11765    NaN  ...      16.75     21.35\n",
              "Item_Fat_Content           14204      5  ...        NaN       NaN\n",
              "Item_Visibility            14204    NaN  ...  0.0940373  0.328391\n",
              "Item_Type                  14204     16  ...        NaN       NaN\n",
              "Item_MRP                   14204    NaN  ...    185.856   266.888\n",
              "Outlet_Identifier          14204     10  ...        NaN       NaN\n",
              "Outlet_Establishment_Year  14204    NaN  ...       2004      2009\n",
              "Outlet_Size                10188      3  ...        NaN       NaN\n",
              "Outlet_Location_Type       14204      3  ...        NaN       NaN\n",
              "Outlet_Type                14204      4  ...        NaN       NaN\n",
              "Item_Outlet_Sales           8523    NaN  ...     3101.3     13087\n",
              "\n",
              "[12 rows x 11 columns]"
            ]
          },
          "metadata": {
            "tags": []
          },
          "execution_count": 96
        }
      ]
    },
    {
      "cell_type": "code",
      "metadata": {
        "id": "9QPtNsKc5RRm",
        "colab_type": "code",
        "colab": {
          "base_uri": "https://localhost:8080/",
          "height": 618
        },
        "outputId": "cd5bda03-4e2f-42a8-aa9f-ffbb0b4d2b48"
      },
      "source": [
        "data.hist(figsize=(10,8))"
      ],
      "execution_count": 97,
      "outputs": [
        {
          "output_type": "execute_result",
          "data": {
            "text/plain": [
              "array([[<matplotlib.axes._subplots.AxesSubplot object at 0x7f1a0f1dfb70>,\n",
              "        <matplotlib.axes._subplots.AxesSubplot object at 0x7f1a0efb0e10>],\n",
              "       [<matplotlib.axes._subplots.AxesSubplot object at 0x7f1a0f1370b8>,\n",
              "        <matplotlib.axes._subplots.AxesSubplot object at 0x7f1a0f169320>],\n",
              "       [<matplotlib.axes._subplots.AxesSubplot object at 0x7f1a0f117588>,\n",
              "        <matplotlib.axes._subplots.AxesSubplot object at 0x7f1a0f0c87f0>]],\n",
              "      dtype=object)"
            ]
          },
          "metadata": {
            "tags": []
          },
          "execution_count": 97
        },
        {
          "output_type": "display_data",
          "data": {
            "image/png": "[encoded data removed]",
            "text/plain": [
              "<Figure size 720x576 with 6 Axes>"
            ]
          },
          "metadata": {
            "tags": [],
            "needs_background": "light"
          }
        }
      ]
    },
    {
      "cell_type": "code",
      "metadata": {
        "id": "7NlpHe3Rdq4_",
        "colab_type": "code",
        "colab": {
          "base_uri": "https://localhost:8080/",
          "height": 122
        },
        "outputId": "2932f407-bc37-4aa1-9fa7-ab1d4323811d"
      },
      "source": [
        "#Filling the mssing data in Item_weight with mean\n",
        "## Because every item should have some weight\n",
        "\n",
        "li = list(data[data['Item_Weight'].isna()].index)\n",
        "data['Item_Weight'][li] = float(data['Item_Weight'].mean())"
      ],
      "execution_count": 98,
      "outputs": [
        {
          "output_type": "stream",
          "text": [
            "/usr/local/lib/python3.6/dist-packages/ipykernel_launcher.py:5: SettingWithCopyWarning: \n",
            "A value is trying to be set on a copy of a slice from a DataFrame\n",
            "\n",
            "See the caveats in the documentation: https://pandas.pydata.org/pandas-docs/stable/user_guide/indexing.html#returning-a-view-versus-a-copy\n",
            "  \"\"\"\n"
          ],
          "name": "stderr"
        }
      ]
    },
    {
      "cell_type": "code",
      "metadata": {
        "id": "-_A8MJcN1Fu_",
        "colab_type": "code",
        "colab": {
          "base_uri": "https://localhost:8080/",
          "height": 119
        },
        "outputId": "1cddb4fb-6e14-4c02-a1cb-548d8b1917fe"
      },
      "source": [
        "#Checking the Correlation between data with respect to target\n",
        "\n",
        "data.corr()['Item_Outlet_Sales']"
      ],
      "execution_count": 99,
      "outputs": [
        {
          "output_type": "execute_result",
          "data": {
            "text/plain": [
              "Item_Weight                  0.011083\n",
              "Item_Visibility             -0.128625\n",
              "Item_MRP                     0.567574\n",
              "Outlet_Establishment_Year   -0.049135\n",
              "Item_Outlet_Sales            1.000000\n",
              "Name: Item_Outlet_Sales, dtype: float64"
            ]
          },
          "metadata": {
            "tags": []
          },
          "execution_count": 99
        }
      ]
    },
    {
      "cell_type": "code",
      "metadata": {
        "id": "7mAnBjlA_esh",
        "colab_type": "code",
        "colab": {
          "base_uri": "https://localhost:8080/",
          "height": 409
        },
        "outputId": "f5961ab5-b2e1-4ee1-b060-a3ed64ed777c"
      },
      "source": [
        "import seaborn as sns\n",
        "sns.heatmap(data.corr())"
      ],
      "execution_count": 100,
      "outputs": [
        {
          "output_type": "execute_result",
          "data": {
            "text/plain": [
              "<matplotlib.axes._subplots.AxesSubplot at 0x7f1a0ef08fd0>"
            ]
          },
          "metadata": {
            "tags": []
          },
          "execution_count": 100
        },
        {
          "output_type": "display_data",
          "data": {
            "image/png": "[encoded data removed]",
            "text/plain": [
              "<Figure size 432x288 with 2 Axes>"
            ]
          },
          "metadata": {
            "tags": [],
            "needs_background": "light"
          }
        }
      ]
    },
    {
      "cell_type": "code",
      "metadata": {
        "id": "N9y6FO9rBwDf",
        "colab_type": "code",
        "colab": {
          "base_uri": "https://localhost:8080/",
          "height": 85
        },
        "outputId": "4442d048-4764-40c8-93c2-94bbfa27f34e"
      },
      "source": [
        "'''\n",
        "\n",
        "We saw that in Item_identifier 1st 2 character's are common and other characters describes about the product\n",
        "\n",
        "So we can extract those characters to simplify our dataset\n",
        "\n",
        "'''\n",
        "\n",
        "data['Item_Type_Combined'] = data['Item_Identifier'].apply(lambda x: x[0:2])\n",
        "data['Item_Type_Combined'].value_counts()"
      ],
      "execution_count": 101,
      "outputs": [
        {
          "output_type": "execute_result",
          "data": {
            "text/plain": [
              "FD    10201\n",
              "NC     2686\n",
              "DR     1317\n",
              "Name: Item_Type_Combined, dtype: int64"
            ]
          },
          "metadata": {
            "tags": []
          },
          "execution_count": 101
        }
      ]
    },
    {
      "cell_type": "code",
      "metadata": {
        "id": "0IDOWUKBchUV",
        "colab_type": "code",
        "colab": {
          "base_uri": "https://localhost:8080/",
          "height": 309
        },
        "outputId": "830c6b88-f8a5-4df8-de39-25ed770240d5"
      },
      "source": [
        "data.head()"
      ],
      "execution_count": 102,
      "outputs": [
        {
          "output_type": "execute_result",
          "data": {
            "text/html": [
              "<div>\n",
              "<style scoped>\n",
              "    .dataframe tbody tr th:only-of-type {\n",
              "        vertical-align: middle;\n",
              "    }\n",
              "\n",
              "    .dataframe tbody tr th {\n",
              "        vertical-align: top;\n",
              "    }\n",
              "\n",
              "    .dataframe thead th {\n",
              "        text-align: right;\n",
              "    }\n",
              "</style>\n",
              "<table border=\"1\" class=\"dataframe\">\n",
              "  <thead>\n",
              "    <tr style=\"text-align: right;\">\n",
              "      <th></th>\n",
              "      <th>Item_Identifier</th>\n",
              "      <th>Item_Weight</th>\n",
              "      <th>Item_Fat_Content</th>\n",
              "      <th>Item_Visibility</th>\n",
              "      <th>Item_Type</th>\n",
              "      <th>Item_MRP</th>\n",
              "      <th>Outlet_Identifier</th>\n",
              "      <th>Outlet_Establishment_Year</th>\n",
              "      <th>Outlet_Size</th>\n",
              "      <th>Outlet_Location_Type</th>\n",
              "      <th>Outlet_Type</th>\n",
              "      <th>Item_Outlet_Sales</th>\n",
              "      <th>Item_Type_Combined</th>\n",
              "    </tr>\n",
              "  </thead>\n",
              "  <tbody>\n",
              "    <tr>\n",
              "      <th>0</th>\n",
              "      <td>FDA15</td>\n",
              "      <td>9.30</td>\n",
              "      <td>Low Fat</td>\n",
              "      <td>0.016047</td>\n",
              "      <td>Dairy</td>\n",
              "      <td>249.8092</td>\n",
              "      <td>OUT049</td>\n",
              "      <td>1999</td>\n",
              "      <td>Medium</td>\n",
              "      <td>Tier 1</td>\n",
              "      <td>Supermarket Type1</td>\n",
              "      <td>3735.1380</td>\n",
              "      <td>FD</td>\n",
              "    </tr>\n",
              "    <tr>\n",
              "      <th>1</th>\n",
              "      <td>DRC01</td>\n",
              "      <td>5.92</td>\n",
              "      <td>Regular</td>\n",
              "      <td>0.019278</td>\n",
              "      <td>Soft Drinks</td>\n",
              "      <td>48.2692</td>\n",
              "      <td>OUT018</td>\n",
              "      <td>2009</td>\n",
              "      <td>Medium</td>\n",
              "      <td>Tier 3</td>\n",
              "      <td>Supermarket Type2</td>\n",
              "      <td>443.4228</td>\n",
              "      <td>DR</td>\n",
              "    </tr>\n",
              "    <tr>\n",
              "      <th>2</th>\n",
              "      <td>FDN15</td>\n",
              "      <td>17.50</td>\n",
              "      <td>Low Fat</td>\n",
              "      <td>0.016760</td>\n",
              "      <td>Meat</td>\n",
              "      <td>141.6180</td>\n",
              "      <td>OUT049</td>\n",
              "      <td>1999</td>\n",
              "      <td>Medium</td>\n",
              "      <td>Tier 1</td>\n",
              "      <td>Supermarket Type1</td>\n",
              "      <td>2097.2700</td>\n",
              "      <td>FD</td>\n",
              "    </tr>\n",
              "    <tr>\n",
              "      <th>3</th>\n",
              "      <td>FDX07</td>\n",
              "      <td>19.20</td>\n",
              "      <td>Regular</td>\n",
              "      <td>0.000000</td>\n",
              "      <td>Fruits and Vegetables</td>\n",
              "      <td>182.0950</td>\n",
              "      <td>OUT010</td>\n",
              "      <td>1998</td>\n",
              "      <td>NaN</td>\n",
              "      <td>Tier 3</td>\n",
              "      <td>Grocery Store</td>\n",
              "      <td>732.3800</td>\n",
              "      <td>FD</td>\n",
              "    </tr>\n",
              "    <tr>\n",
              "      <th>4</th>\n",
              "      <td>NCD19</td>\n",
              "      <td>8.93</td>\n",
              "      <td>Low Fat</td>\n",
              "      <td>0.000000</td>\n",
              "      <td>Household</td>\n",
              "      <td>53.8614</td>\n",
              "      <td>OUT013</td>\n",
              "      <td>1987</td>\n",
              "      <td>High</td>\n",
              "      <td>Tier 3</td>\n",
              "      <td>Supermarket Type1</td>\n",
              "      <td>994.7052</td>\n",
              "      <td>NC</td>\n",
              "    </tr>\n",
              "  </tbody>\n",
              "</table>\n",
              "</div>"
            ],
            "text/plain": [
              "  Item_Identifier  Item_Weight  ... Item_Outlet_Sales  Item_Type_Combined\n",
              "0           FDA15         9.30  ...         3735.1380                  FD\n",
              "1           DRC01         5.92  ...          443.4228                  DR\n",
              "2           FDN15        17.50  ...         2097.2700                  FD\n",
              "3           FDX07        19.20  ...          732.3800                  FD\n",
              "4           NCD19         8.93  ...          994.7052                  NC\n",
              "\n",
              "[5 rows x 13 columns]"
            ]
          },
          "metadata": {
            "tags": []
          },
          "execution_count": 102
        }
      ]
    },
    {
      "cell_type": "code",
      "metadata": {
        "id": "2IkeNPO79m5D",
        "colab_type": "code",
        "colab": {
          "base_uri": "https://localhost:8080/",
          "height": 607
        },
        "outputId": "b4dee520-7300-4844-a29b-012473d380e2"
      },
      "source": [
        "data.pivot_table(values=\"Item_Outlet_Sales\",index=['Item_Type_Combined','Item_Type'],aggfunc='sum')"
      ],
      "execution_count": 103,
      "outputs": [
        {
          "output_type": "execute_result",
          "data": {
            "text/html": [
              "<div>\n",
              "<style scoped>\n",
              "    .dataframe tbody tr th:only-of-type {\n",
              "        vertical-align: middle;\n",
              "    }\n",
              "\n",
              "    .dataframe tbody tr th {\n",
              "        vertical-align: top;\n",
              "    }\n",
              "\n",
              "    .dataframe thead th {\n",
              "        text-align: right;\n",
              "    }\n",
              "</style>\n",
              "<table border=\"1\" class=\"dataframe\">\n",
              "  <thead>\n",
              "    <tr style=\"text-align: right;\">\n",
              "      <th></th>\n",
              "      <th></th>\n",
              "      <th>Item_Outlet_Sales</th>\n",
              "    </tr>\n",
              "    <tr>\n",
              "      <th>Item_Type_Combined</th>\n",
              "      <th>Item_Type</th>\n",
              "      <th></th>\n",
              "    </tr>\n",
              "  </thead>\n",
              "  <tbody>\n",
              "    <tr>\n",
              "      <th rowspan=\"3\" valign=\"top\">DR</th>\n",
              "      <th>Dairy</th>\n",
              "      <td>2.451782e+05</td>\n",
              "    </tr>\n",
              "    <tr>\n",
              "      <th>Hard Drinks</th>\n",
              "      <td>4.577934e+05</td>\n",
              "    </tr>\n",
              "    <tr>\n",
              "      <th>Soft Drinks</th>\n",
              "      <td>8.928977e+05</td>\n",
              "    </tr>\n",
              "    <tr>\n",
              "      <th rowspan=\"11\" valign=\"top\">FD</th>\n",
              "      <th>Baking Goods</th>\n",
              "      <td>1.265525e+06</td>\n",
              "    </tr>\n",
              "    <tr>\n",
              "      <th>Breads</th>\n",
              "      <td>5.532372e+05</td>\n",
              "    </tr>\n",
              "    <tr>\n",
              "      <th>Breakfast</th>\n",
              "      <td>2.322990e+05</td>\n",
              "    </tr>\n",
              "    <tr>\n",
              "      <th>Canned</th>\n",
              "      <td>1.444151e+06</td>\n",
              "    </tr>\n",
              "    <tr>\n",
              "      <th>Dairy</th>\n",
              "      <td>1.277416e+06</td>\n",
              "    </tr>\n",
              "    <tr>\n",
              "      <th>Frozen Foods</th>\n",
              "      <td>1.825735e+06</td>\n",
              "    </tr>\n",
              "    <tr>\n",
              "      <th>Fruits and Vegetables</th>\n",
              "      <td>2.820060e+06</td>\n",
              "    </tr>\n",
              "    <tr>\n",
              "      <th>Meat</th>\n",
              "      <td>9.175656e+05</td>\n",
              "    </tr>\n",
              "    <tr>\n",
              "      <th>Seafood</th>\n",
              "      <td>1.488682e+05</td>\n",
              "    </tr>\n",
              "    <tr>\n",
              "      <th>Snack Foods</th>\n",
              "      <td>2.732786e+06</td>\n",
              "    </tr>\n",
              "    <tr>\n",
              "      <th>Starchy Foods</th>\n",
              "      <td>3.514013e+05</td>\n",
              "    </tr>\n",
              "    <tr>\n",
              "      <th rowspan=\"3\" valign=\"top\">NC</th>\n",
              "      <th>Health and Hygiene</th>\n",
              "      <td>1.045200e+06</td>\n",
              "    </tr>\n",
              "    <tr>\n",
              "      <th>Household</th>\n",
              "      <td>2.055494e+06</td>\n",
              "    </tr>\n",
              "    <tr>\n",
              "      <th>Others</th>\n",
              "      <td>3.255176e+05</td>\n",
              "    </tr>\n",
              "  </tbody>\n",
              "</table>\n",
              "</div>"
            ],
            "text/plain": [
              "                                          Item_Outlet_Sales\n",
              "Item_Type_Combined Item_Type                               \n",
              "DR                 Dairy                       2.451782e+05\n",
              "                   Hard Drinks                 4.577934e+05\n",
              "                   Soft Drinks                 8.928977e+05\n",
              "FD                 Baking Goods                1.265525e+06\n",
              "                   Breads                      5.532372e+05\n",
              "                   Breakfast                   2.322990e+05\n",
              "                   Canned                      1.444151e+06\n",
              "                   Dairy                       1.277416e+06\n",
              "                   Frozen Foods                1.825735e+06\n",
              "                   Fruits and Vegetables       2.820060e+06\n",
              "                   Meat                        9.175656e+05\n",
              "                   Seafood                     1.488682e+05\n",
              "                   Snack Foods                 2.732786e+06\n",
              "                   Starchy Foods               3.514013e+05\n",
              "NC                 Health and Hygiene          1.045200e+06\n",
              "                   Household                   2.055494e+06\n",
              "                   Others                      3.255176e+05"
            ]
          },
          "metadata": {
            "tags": []
          },
          "execution_count": 103
        }
      ]
    },
    {
      "cell_type": "code",
      "metadata": {
        "id": "lvW1TS2TNFG_",
        "colab_type": "code",
        "colab": {}
      },
      "source": [
        "'''\n",
        "After we extract 1st 2 characters from Item_identifier we saw that it means to certain item type\n",
        "\n",
        "so we can rename them accordingly\n",
        "\n",
        "'''\n",
        "\n",
        "data['Item_Type_Combined'] = data['Item_Type_Combined'].map({'FD':'Food','NC':'Non-Consumable','DR':'Drinks'})"
      ],
      "execution_count": 104,
      "outputs": []
    },
    {
      "cell_type": "code",
      "metadata": {
        "id": "FrwADr9jNwK-",
        "colab_type": "code",
        "colab": {
          "base_uri": "https://localhost:8080/",
          "height": 85
        },
        "outputId": "e46bf669-6aef-4b83-8e8d-6546278de1a0"
      },
      "source": [
        "data['Item_Type_Combined'].value_counts()"
      ],
      "execution_count": 105,
      "outputs": [
        {
          "output_type": "execute_result",
          "data": {
            "text/plain": [
              "Food              10201\n",
              "Non-Consumable     2686\n",
              "Drinks             1317\n",
              "Name: Item_Type_Combined, dtype: int64"
            ]
          },
          "metadata": {
            "tags": []
          },
          "execution_count": 105
        }
      ]
    },
    {
      "cell_type": "code",
      "metadata": {
        "id": "OgiU29aCXSoi",
        "colab_type": "code",
        "colab": {
          "base_uri": "https://localhost:8080/",
          "height": 102
        },
        "outputId": "d89e3cbd-955d-4afe-c22f-6c75acc2035d"
      },
      "source": [
        "data.columns.values"
      ],
      "execution_count": 106,
      "outputs": [
        {
          "output_type": "execute_result",
          "data": {
            "text/plain": [
              "array(['Item_Identifier', 'Item_Weight', 'Item_Fat_Content',\n",
              "       'Item_Visibility', 'Item_Type', 'Item_MRP', 'Outlet_Identifier',\n",
              "       'Outlet_Establishment_Year', 'Outlet_Size', 'Outlet_Location_Type',\n",
              "       'Outlet_Type', 'Item_Outlet_Sales', 'Item_Type_Combined'],\n",
              "      dtype=object)"
            ]
          },
          "metadata": {
            "tags": []
          },
          "execution_count": 106
        }
      ]
    },
    {
      "cell_type": "code",
      "metadata": {
        "id": "-6Of7TJTXX5U",
        "colab_type": "code",
        "colab": {}
      },
      "source": [
        "# Rearranging the Columns \n",
        "\n",
        "## To get the better view of data\n",
        "\n",
        "columns = ['Item_Identifier', 'Item_Type_Combined','Item_Type', 'Item_Fat_Content', 'Item_Weight', 'Item_Visibility',\n",
        "        'Item_MRP', 'Outlet_Identifier',\n",
        "       'Outlet_Establishment_Year', 'Outlet_Size', 'Outlet_Location_Type',\n",
        "       'Outlet_Type', 'Item_Outlet_Sales']\n",
        "data = data[columns]"
      ],
      "execution_count": 107,
      "outputs": []
    },
    {
      "cell_type": "code",
      "metadata": {
        "id": "lavPjekjXnC6",
        "colab_type": "code",
        "colab": {
          "base_uri": "https://localhost:8080/",
          "height": 309
        },
        "outputId": "5399bdef-d6b2-4fd3-dd58-5489e334b512"
      },
      "source": [
        "data.head()"
      ],
      "execution_count": 108,
      "outputs": [
        {
          "output_type": "execute_result",
          "data": {
            "text/html": [
              "<div>\n",
              "<style scoped>\n",
              "    .dataframe tbody tr th:only-of-type {\n",
              "        vertical-align: middle;\n",
              "    }\n",
              "\n",
              "    .dataframe tbody tr th {\n",
              "        vertical-align: top;\n",
              "    }\n",
              "\n",
              "    .dataframe thead th {\n",
              "        text-align: right;\n",
              "    }\n",
              "</style>\n",
              "<table border=\"1\" class=\"dataframe\">\n",
              "  <thead>\n",
              "    <tr style=\"text-align: right;\">\n",
              "      <th></th>\n",
              "      <th>Item_Identifier</th>\n",
              "      <th>Item_Type_Combined</th>\n",
              "      <th>Item_Type</th>\n",
              "      <th>Item_Fat_Content</th>\n",
              "      <th>Item_Weight</th>\n",
              "      <th>Item_Visibility</th>\n",
              "      <th>Item_MRP</th>\n",
              "      <th>Outlet_Identifier</th>\n",
              "      <th>Outlet_Establishment_Year</th>\n",
              "      <th>Outlet_Size</th>\n",
              "      <th>Outlet_Location_Type</th>\n",
              "      <th>Outlet_Type</th>\n",
              "      <th>Item_Outlet_Sales</th>\n",
              "    </tr>\n",
              "  </thead>\n",
              "  <tbody>\n",
              "    <tr>\n",
              "      <th>0</th>\n",
              "      <td>FDA15</td>\n",
              "      <td>Food</td>\n",
              "      <td>Dairy</td>\n",
              "      <td>Low Fat</td>\n",
              "      <td>9.30</td>\n",
              "      <td>0.016047</td>\n",
              "      <td>249.8092</td>\n",
              "      <td>OUT049</td>\n",
              "      <td>1999</td>\n",
              "      <td>Medium</td>\n",
              "      <td>Tier 1</td>\n",
              "      <td>Supermarket Type1</td>\n",
              "      <td>3735.1380</td>\n",
              "    </tr>\n",
              "    <tr>\n",
              "      <th>1</th>\n",
              "      <td>DRC01</td>\n",
              "      <td>Drinks</td>\n",
              "      <td>Soft Drinks</td>\n",
              "      <td>Regular</td>\n",
              "      <td>5.92</td>\n",
              "      <td>0.019278</td>\n",
              "      <td>48.2692</td>\n",
              "      <td>OUT018</td>\n",
              "      <td>2009</td>\n",
              "      <td>Medium</td>\n",
              "      <td>Tier 3</td>\n",
              "      <td>Supermarket Type2</td>\n",
              "      <td>443.4228</td>\n",
              "    </tr>\n",
              "    <tr>\n",
              "      <th>2</th>\n",
              "      <td>FDN15</td>\n",
              "      <td>Food</td>\n",
              "      <td>Meat</td>\n",
              "      <td>Low Fat</td>\n",
              "      <td>17.50</td>\n",
              "      <td>0.016760</td>\n",
              "      <td>141.6180</td>\n",
              "      <td>OUT049</td>\n",
              "      <td>1999</td>\n",
              "      <td>Medium</td>\n",
              "      <td>Tier 1</td>\n",
              "      <td>Supermarket Type1</td>\n",
              "      <td>2097.2700</td>\n",
              "    </tr>\n",
              "    <tr>\n",
              "      <th>3</th>\n",
              "      <td>FDX07</td>\n",
              "      <td>Food</td>\n",
              "      <td>Fruits and Vegetables</td>\n",
              "      <td>Regular</td>\n",
              "      <td>19.20</td>\n",
              "      <td>0.000000</td>\n",
              "      <td>182.0950</td>\n",
              "      <td>OUT010</td>\n",
              "      <td>1998</td>\n",
              "      <td>NaN</td>\n",
              "      <td>Tier 3</td>\n",
              "      <td>Grocery Store</td>\n",
              "      <td>732.3800</td>\n",
              "    </tr>\n",
              "    <tr>\n",
              "      <th>4</th>\n",
              "      <td>NCD19</td>\n",
              "      <td>Non-Consumable</td>\n",
              "      <td>Household</td>\n",
              "      <td>Low Fat</td>\n",
              "      <td>8.93</td>\n",
              "      <td>0.000000</td>\n",
              "      <td>53.8614</td>\n",
              "      <td>OUT013</td>\n",
              "      <td>1987</td>\n",
              "      <td>High</td>\n",
              "      <td>Tier 3</td>\n",
              "      <td>Supermarket Type1</td>\n",
              "      <td>994.7052</td>\n",
              "    </tr>\n",
              "  </tbody>\n",
              "</table>\n",
              "</div>"
            ],
            "text/plain": [
              "  Item_Identifier Item_Type_Combined  ...        Outlet_Type Item_Outlet_Sales\n",
              "0           FDA15               Food  ...  Supermarket Type1         3735.1380\n",
              "1           DRC01             Drinks  ...  Supermarket Type2          443.4228\n",
              "2           FDN15               Food  ...  Supermarket Type1         2097.2700\n",
              "3           FDX07               Food  ...      Grocery Store          732.3800\n",
              "4           NCD19     Non-Consumable  ...  Supermarket Type1          994.7052\n",
              "\n",
              "[5 rows x 13 columns]"
            ]
          },
          "metadata": {
            "tags": []
          },
          "execution_count": 108
        }
      ]
    },
    {
      "cell_type": "code",
      "metadata": {
        "id": "d_t-L11a16Vm",
        "colab_type": "code",
        "colab": {
          "base_uri": "https://localhost:8080/",
          "height": 85
        },
        "outputId": "b2897e84-f698-45a5-df3c-dbeef9110561"
      },
      "source": [
        "#We saw that Outlet_size have some Nan Values\n",
        "#So we are filling those values with Medium\n",
        "\n",
        "data['Outlet_Size'] = data['Outlet_Size'].fillna('Medium')\n",
        "data['Outlet_Size'].value_counts()"
      ],
      "execution_count": 109,
      "outputs": [
        {
          "output_type": "execute_result",
          "data": {
            "text/plain": [
              "Medium    8671\n",
              "Small     3980\n",
              "High      1553\n",
              "Name: Outlet_Size, dtype: int64"
            ]
          },
          "metadata": {
            "tags": []
          },
          "execution_count": 109
        }
      ]
    },
    {
      "cell_type": "code",
      "metadata": {
        "id": "tzkivD9gE7Ev",
        "colab_type": "code",
        "colab": {
          "base_uri": "https://localhost:8080/",
          "height": 119
        },
        "outputId": "11144651-14e2-4218-9873-f395988f509b"
      },
      "source": [
        "data['Item_Fat_Content'].value_counts()"
      ],
      "execution_count": 110,
      "outputs": [
        {
          "output_type": "execute_result",
          "data": {
            "text/plain": [
              "Low Fat    8485\n",
              "Regular    4824\n",
              "LF          522\n",
              "reg         195\n",
              "low fat     178\n",
              "Name: Item_Fat_Content, dtype: int64"
            ]
          },
          "metadata": {
            "tags": []
          },
          "execution_count": 110
        }
      ]
    },
    {
      "cell_type": "code",
      "metadata": {
        "id": "OaBczuLUEtRY",
        "colab_type": "code",
        "colab": {
          "base_uri": "https://localhost:8080/",
          "height": 68
        },
        "outputId": "ed7933dc-04fe-4ec3-b889-d4a5e84ce0bd"
      },
      "source": [
        "#When we look at it we saw that [\"LF\",\" Low Fat\",\" low fat\"] & [\"Regular\",\"reg\"] are same and using acronyms\n",
        "## We are replacing all the values\n",
        "\n",
        "data['Item_Fat_Content'] = data['Item_Fat_Content'].replace('LF','Low Fat')\n",
        "\n",
        "data['Item_Fat_Content'] = data['Item_Fat_Content'].replace('low fat','Low Fat')\n",
        "\n",
        "data['Item_Fat_Content'] = data['Item_Fat_Content'].replace('reg','Regular')\n",
        "\n",
        "data['Item_Fat_Content'].value_counts()"
      ],
      "execution_count": 111,
      "outputs": [
        {
          "output_type": "execute_result",
          "data": {
            "text/plain": [
              "Low Fat    9185\n",
              "Regular    5019\n",
              "Name: Item_Fat_Content, dtype: int64"
            ]
          },
          "metadata": {
            "tags": []
          },
          "execution_count": 111
        }
      ]
    },
    {
      "cell_type": "code",
      "metadata": {
        "id": "6QrPKJVehVgK",
        "colab_type": "code",
        "colab": {
          "base_uri": "https://localhost:8080/",
          "height": 357
        },
        "outputId": "a0ba44e2-1e8f-42eb-91a9-2341cb8591d2"
      },
      "source": [
        "data.info()"
      ],
      "execution_count": 112,
      "outputs": [
        {
          "output_type": "stream",
          "text": [
            "<class 'pandas.core.frame.DataFrame'>\n",
            "RangeIndex: 14204 entries, 0 to 14203\n",
            "Data columns (total 13 columns):\n",
            " #   Column                     Non-Null Count  Dtype  \n",
            "---  ------                     --------------  -----  \n",
            " 0   Item_Identifier            14204 non-null  object \n",
            " 1   Item_Type_Combined         14204 non-null  object \n",
            " 2   Item_Type                  14204 non-null  object \n",
            " 3   Item_Fat_Content           14204 non-null  object \n",
            " 4   Item_Weight                14204 non-null  float64\n",
            " 5   Item_Visibility            14204 non-null  float64\n",
            " 6   Item_MRP                   14204 non-null  float64\n",
            " 7   Outlet_Identifier          14204 non-null  object \n",
            " 8   Outlet_Establishment_Year  14204 non-null  int64  \n",
            " 9   Outlet_Size                14204 non-null  object \n",
            " 10  Outlet_Location_Type       14204 non-null  object \n",
            " 11  Outlet_Type                14204 non-null  object \n",
            " 12  Item_Outlet_Sales          8523 non-null   float64\n",
            "dtypes: float64(4), int64(1), object(8)\n",
            "memory usage: 1.4+ MB\n"
          ],
          "name": "stdout"
        }
      ]
    },
    {
      "cell_type": "code",
      "metadata": {
        "id": "FZyt60Az9n5d",
        "colab_type": "code",
        "colab": {
          "base_uri": "https://localhost:8080/",
          "height": 797
        },
        "outputId": "4476d131-82e8-4d28-de8b-473c738f3b7e"
      },
      "source": [
        "plot_outlet = data.pivot_table(values=\"Item_Outlet_Sales\",index=['Outlet_Location_Type','Outlet_Size','Outlet_Type'],aggfunc=np.sum)\n",
        "plot_outlet.plot(kind='bar',figsize = (30,25))\n",
        "plt.xticks(rotation=0)\n",
        "plt.show()"
      ],
      "execution_count": 113,
      "outputs": [
        {
          "output_type": "display_data",
          "data": {
            "image/png": "[encoded data removed]",
            "text/plain": [
              "<Figure size 2160x1800 with 1 Axes>"
            ]
          },
          "metadata": {
            "tags": [],
            "needs_background": "light"
          }
        }
      ]
    },
    {
      "cell_type": "code",
      "metadata": {
        "id": "hTOzQd70HAiw",
        "colab_type": "code",
        "colab": {
          "base_uri": "https://localhost:8080/",
          "height": 359
        },
        "outputId": "6ac10533-fdfe-4731-de3e-961304f8323a"
      },
      "source": [
        "data.pivot_table(values=\"Item_Outlet_Sales\",index=['Outlet_Location_Type','Outlet_Size','Outlet_Type'],aggfunc=np.sum)\n"
      ],
      "execution_count": 114,
      "outputs": [
        {
          "output_type": "execute_result",
          "data": {
            "text/html": [
              "<div>\n",
              "<style scoped>\n",
              "    .dataframe tbody tr th:only-of-type {\n",
              "        vertical-align: middle;\n",
              "    }\n",
              "\n",
              "    .dataframe tbody tr th {\n",
              "        vertical-align: top;\n",
              "    }\n",
              "\n",
              "    .dataframe thead th {\n",
              "        text-align: right;\n",
              "    }\n",
              "</style>\n",
              "<table border=\"1\" class=\"dataframe\">\n",
              "  <thead>\n",
              "    <tr style=\"text-align: right;\">\n",
              "      <th></th>\n",
              "      <th></th>\n",
              "      <th></th>\n",
              "      <th>Item_Outlet_Sales</th>\n",
              "    </tr>\n",
              "    <tr>\n",
              "      <th>Outlet_Location_Type</th>\n",
              "      <th>Outlet_Size</th>\n",
              "      <th>Outlet_Type</th>\n",
              "      <th></th>\n",
              "    </tr>\n",
              "  </thead>\n",
              "  <tbody>\n",
              "    <tr>\n",
              "      <th rowspan=\"3\" valign=\"top\">Tier 1</th>\n",
              "      <th>Medium</th>\n",
              "      <th>Supermarket Type1</th>\n",
              "      <td>2.183970e+06</td>\n",
              "    </tr>\n",
              "    <tr>\n",
              "      <th rowspan=\"2\" valign=\"top\">Small</th>\n",
              "      <th>Grocery Store</th>\n",
              "      <td>1.796941e+05</td>\n",
              "    </tr>\n",
              "    <tr>\n",
              "      <th>Supermarket Type1</th>\n",
              "      <td>2.118395e+06</td>\n",
              "    </tr>\n",
              "    <tr>\n",
              "      <th rowspan=\"2\" valign=\"top\">Tier 2</th>\n",
              "      <th>Medium</th>\n",
              "      <th>Supermarket Type1</th>\n",
              "      <td>4.204191e+06</td>\n",
              "    </tr>\n",
              "    <tr>\n",
              "      <th>Small</th>\n",
              "      <th>Supermarket Type1</th>\n",
              "      <td>2.268123e+06</td>\n",
              "    </tr>\n",
              "    <tr>\n",
              "      <th rowspan=\"4\" valign=\"top\">Tier 3</th>\n",
              "      <th>High</th>\n",
              "      <th>Supermarket Type1</th>\n",
              "      <td>2.142664e+06</td>\n",
              "    </tr>\n",
              "    <tr>\n",
              "      <th rowspan=\"3\" valign=\"top\">Medium</th>\n",
              "      <th>Grocery Store</th>\n",
              "      <td>1.883402e+05</td>\n",
              "    </tr>\n",
              "    <tr>\n",
              "      <th>Supermarket Type2</th>\n",
              "      <td>1.851823e+06</td>\n",
              "    </tr>\n",
              "    <tr>\n",
              "      <th>Supermarket Type3</th>\n",
              "      <td>3.453926e+06</td>\n",
              "    </tr>\n",
              "  </tbody>\n",
              "</table>\n",
              "</div>"
            ],
            "text/plain": [
              "                                                    Item_Outlet_Sales\n",
              "Outlet_Location_Type Outlet_Size Outlet_Type                         \n",
              "Tier 1               Medium      Supermarket Type1       2.183970e+06\n",
              "                     Small       Grocery Store           1.796941e+05\n",
              "                                 Supermarket Type1       2.118395e+06\n",
              "Tier 2               Medium      Supermarket Type1       4.204191e+06\n",
              "                     Small       Supermarket Type1       2.268123e+06\n",
              "Tier 3               High        Supermarket Type1       2.142664e+06\n",
              "                     Medium      Grocery Store           1.883402e+05\n",
              "                                 Supermarket Type2       1.851823e+06\n",
              "                                 Supermarket Type3       3.453926e+06"
            ]
          },
          "metadata": {
            "tags": []
          },
          "execution_count": 114
        }
      ]
    },
    {
      "cell_type": "code",
      "metadata": {
        "id": "U3tWQA19AWYj",
        "colab_type": "code",
        "colab": {
          "base_uri": "https://localhost:8080/",
          "height": 726
        },
        "outputId": "cfcb107d-f34f-4797-a96e-c0495527f58e"
      },
      "source": [
        "plot_item = data.pivot_table(values=\"Item_Outlet_Sales\",index=['Item_Fat_Content','Item_Type_Combined'],aggfunc='sum')\n",
        "plot_item.plot(kind='bar',figsize = (15,12))\n",
        "plt.xticks(rotation=0)\n",
        "plt.show()"
      ],
      "execution_count": 115,
      "outputs": [
        {
          "output_type": "display_data",
          "data": {
            "image/png": "[encoded data removed]",
            "text/plain": [
              "<Figure size 1080x864 with 1 Axes>"
            ]
          },
          "metadata": {
            "tags": [],
            "needs_background": "light"
          }
        }
      ]
    },
    {
      "cell_type": "code",
      "metadata": {
        "id": "uqISOn90HHa_",
        "colab_type": "code",
        "colab": {
          "base_uri": "https://localhost:8080/",
          "height": 979
        },
        "outputId": "ee4dfe74-ef09-4403-f179-eb225db0c424"
      },
      "source": [
        "data.pivot_table(values=\"Item_Outlet_Sales\",index=['Item_Fat_Content','Item_Type_Combined','Item_Type'],aggfunc='sum')"
      ],
      "execution_count": 116,
      "outputs": [
        {
          "output_type": "execute_result",
          "data": {
            "text/html": [
              "<div>\n",
              "<style scoped>\n",
              "    .dataframe tbody tr th:only-of-type {\n",
              "        vertical-align: middle;\n",
              "    }\n",
              "\n",
              "    .dataframe tbody tr th {\n",
              "        vertical-align: top;\n",
              "    }\n",
              "\n",
              "    .dataframe thead th {\n",
              "        text-align: right;\n",
              "    }\n",
              "</style>\n",
              "<table border=\"1\" class=\"dataframe\">\n",
              "  <thead>\n",
              "    <tr style=\"text-align: right;\">\n",
              "      <th></th>\n",
              "      <th></th>\n",
              "      <th></th>\n",
              "      <th>Item_Outlet_Sales</th>\n",
              "    </tr>\n",
              "    <tr>\n",
              "      <th>Item_Fat_Content</th>\n",
              "      <th>Item_Type_Combined</th>\n",
              "      <th>Item_Type</th>\n",
              "      <th></th>\n",
              "    </tr>\n",
              "  </thead>\n",
              "  <tbody>\n",
              "    <tr>\n",
              "      <th rowspan=\"17\" valign=\"top\">Low Fat</th>\n",
              "      <th rowspan=\"3\" valign=\"top\">Drinks</th>\n",
              "      <th>Dairy</th>\n",
              "      <td>2.451782e+05</td>\n",
              "    </tr>\n",
              "    <tr>\n",
              "      <th>Hard Drinks</th>\n",
              "      <td>4.577934e+05</td>\n",
              "    </tr>\n",
              "    <tr>\n",
              "      <th>Soft Drinks</th>\n",
              "      <td>7.612591e+05</td>\n",
              "    </tr>\n",
              "    <tr>\n",
              "      <th rowspan=\"11\" valign=\"top\">Food</th>\n",
              "      <th>Baking Goods</th>\n",
              "      <td>5.805237e+05</td>\n",
              "    </tr>\n",
              "    <tr>\n",
              "      <th>Breads</th>\n",
              "      <td>3.056808e+05</td>\n",
              "    </tr>\n",
              "    <tr>\n",
              "      <th>Breakfast</th>\n",
              "      <td>9.944189e+04</td>\n",
              "    </tr>\n",
              "    <tr>\n",
              "      <th>Canned</th>\n",
              "      <td>7.531716e+05</td>\n",
              "    </tr>\n",
              "    <tr>\n",
              "      <th>Dairy</th>\n",
              "      <td>6.515046e+05</td>\n",
              "    </tr>\n",
              "    <tr>\n",
              "      <th>Frozen Foods</th>\n",
              "      <td>9.528910e+05</td>\n",
              "    </tr>\n",
              "    <tr>\n",
              "      <th>Fruits and Vegetables</th>\n",
              "      <td>1.374916e+06</td>\n",
              "    </tr>\n",
              "    <tr>\n",
              "      <th>Meat</th>\n",
              "      <td>3.460549e+05</td>\n",
              "    </tr>\n",
              "    <tr>\n",
              "      <th>Seafood</th>\n",
              "      <td>7.058812e+04</td>\n",
              "    </tr>\n",
              "    <tr>\n",
              "      <th>Snack Foods</th>\n",
              "      <td>1.669089e+06</td>\n",
              "    </tr>\n",
              "    <tr>\n",
              "      <th>Starchy Foods</th>\n",
              "      <td>2.097909e+05</td>\n",
              "    </tr>\n",
              "    <tr>\n",
              "      <th rowspan=\"3\" valign=\"top\">Non-Consumable</th>\n",
              "      <th>Health and Hygiene</th>\n",
              "      <td>1.045200e+06</td>\n",
              "    </tr>\n",
              "    <tr>\n",
              "      <th>Household</th>\n",
              "      <td>2.055494e+06</td>\n",
              "    </tr>\n",
              "    <tr>\n",
              "      <th>Others</th>\n",
              "      <td>3.255176e+05</td>\n",
              "    </tr>\n",
              "    <tr>\n",
              "      <th rowspan=\"12\" valign=\"top\">Regular</th>\n",
              "      <th>Drinks</th>\n",
              "      <th>Soft Drinks</th>\n",
              "      <td>1.316386e+05</td>\n",
              "    </tr>\n",
              "    <tr>\n",
              "      <th rowspan=\"11\" valign=\"top\">Food</th>\n",
              "      <th>Baking Goods</th>\n",
              "      <td>6.850017e+05</td>\n",
              "    </tr>\n",
              "    <tr>\n",
              "      <th>Breads</th>\n",
              "      <td>2.475564e+05</td>\n",
              "    </tr>\n",
              "    <tr>\n",
              "      <th>Breakfast</th>\n",
              "      <td>1.328571e+05</td>\n",
              "    </tr>\n",
              "    <tr>\n",
              "      <th>Canned</th>\n",
              "      <td>6.909799e+05</td>\n",
              "    </tr>\n",
              "    <tr>\n",
              "      <th>Dairy</th>\n",
              "      <td>6.259113e+05</td>\n",
              "    </tr>\n",
              "    <tr>\n",
              "      <th>Frozen Foods</th>\n",
              "      <td>8.728438e+05</td>\n",
              "    </tr>\n",
              "    <tr>\n",
              "      <th>Fruits and Vegetables</th>\n",
              "      <td>1.445144e+06</td>\n",
              "    </tr>\n",
              "    <tr>\n",
              "      <th>Meat</th>\n",
              "      <td>5.715107e+05</td>\n",
              "    </tr>\n",
              "    <tr>\n",
              "      <th>Seafood</th>\n",
              "      <td>7.828010e+04</td>\n",
              "    </tr>\n",
              "    <tr>\n",
              "      <th>Snack Foods</th>\n",
              "      <td>1.063697e+06</td>\n",
              "    </tr>\n",
              "    <tr>\n",
              "      <th>Starchy Foods</th>\n",
              "      <td>1.416103e+05</td>\n",
              "    </tr>\n",
              "  </tbody>\n",
              "</table>\n",
              "</div>"
            ],
            "text/plain": [
              "                                                           Item_Outlet_Sales\n",
              "Item_Fat_Content Item_Type_Combined Item_Type                               \n",
              "Low Fat          Drinks             Dairy                       2.451782e+05\n",
              "                                    Hard Drinks                 4.577934e+05\n",
              "                                    Soft Drinks                 7.612591e+05\n",
              "                 Food               Baking Goods                5.805237e+05\n",
              "                                    Breads                      3.056808e+05\n",
              "                                    Breakfast                   9.944189e+04\n",
              "                                    Canned                      7.531716e+05\n",
              "                                    Dairy                       6.515046e+05\n",
              "                                    Frozen Foods                9.528910e+05\n",
              "                                    Fruits and Vegetables       1.374916e+06\n",
              "                                    Meat                        3.460549e+05\n",
              "                                    Seafood                     7.058812e+04\n",
              "                                    Snack Foods                 1.669089e+06\n",
              "                                    Starchy Foods               2.097909e+05\n",
              "                 Non-Consumable     Health and Hygiene          1.045200e+06\n",
              "                                    Household                   2.055494e+06\n",
              "                                    Others                      3.255176e+05\n",
              "Regular          Drinks             Soft Drinks                 1.316386e+05\n",
              "                 Food               Baking Goods                6.850017e+05\n",
              "                                    Breads                      2.475564e+05\n",
              "                                    Breakfast                   1.328571e+05\n",
              "                                    Canned                      6.909799e+05\n",
              "                                    Dairy                       6.259113e+05\n",
              "                                    Frozen Foods                8.728438e+05\n",
              "                                    Fruits and Vegetables       1.445144e+06\n",
              "                                    Meat                        5.715107e+05\n",
              "                                    Seafood                     7.828010e+04\n",
              "                                    Snack Foods                 1.063697e+06\n",
              "                                    Starchy Foods               1.416103e+05"
            ]
          },
          "metadata": {
            "tags": []
          },
          "execution_count": 116
        }
      ]
    },
    {
      "cell_type": "code",
      "metadata": {
        "id": "8iS7HWKaN-M2",
        "colab_type": "code",
        "colab": {}
      },
      "source": [
        "#From above table we saw that Non_Consumable goods don't fit with Low_Fat\n",
        "\n",
        "## We we must change them to Other_Household\n",
        "\n",
        "data.loc[data['Item_Type_Combined']==\"Non-Consumable\",'Item_Fat_Content'] = \"Household\""
      ],
      "execution_count": 117,
      "outputs": []
    },
    {
      "cell_type": "code",
      "metadata": {
        "id": "z2ka_Km9Qf5_",
        "colab_type": "code",
        "colab": {
          "base_uri": "https://localhost:8080/",
          "height": 390
        },
        "outputId": "59d8b497-c7fe-4f8d-8217-875a83a7eaf5"
      },
      "source": [
        "plot_identifier = data.pivot_table(index=\"Outlet_Identifier\", values=\"Item_Outlet_Sales\", aggfunc=np.sum)\n",
        "plot_identifier"
      ],
      "execution_count": 118,
      "outputs": [
        {
          "output_type": "execute_result",
          "data": {
            "text/html": [
              "<div>\n",
              "<style scoped>\n",
              "    .dataframe tbody tr th:only-of-type {\n",
              "        vertical-align: middle;\n",
              "    }\n",
              "\n",
              "    .dataframe tbody tr th {\n",
              "        vertical-align: top;\n",
              "    }\n",
              "\n",
              "    .dataframe thead th {\n",
              "        text-align: right;\n",
              "    }\n",
              "</style>\n",
              "<table border=\"1\" class=\"dataframe\">\n",
              "  <thead>\n",
              "    <tr style=\"text-align: right;\">\n",
              "      <th></th>\n",
              "      <th>Item_Outlet_Sales</th>\n",
              "    </tr>\n",
              "    <tr>\n",
              "      <th>Outlet_Identifier</th>\n",
              "      <th></th>\n",
              "    </tr>\n",
              "  </thead>\n",
              "  <tbody>\n",
              "    <tr>\n",
              "      <th>OUT010</th>\n",
              "      <td>1.883402e+05</td>\n",
              "    </tr>\n",
              "    <tr>\n",
              "      <th>OUT013</th>\n",
              "      <td>2.142664e+06</td>\n",
              "    </tr>\n",
              "    <tr>\n",
              "      <th>OUT017</th>\n",
              "      <td>2.167465e+06</td>\n",
              "    </tr>\n",
              "    <tr>\n",
              "      <th>OUT018</th>\n",
              "      <td>1.851823e+06</td>\n",
              "    </tr>\n",
              "    <tr>\n",
              "      <th>OUT019</th>\n",
              "      <td>1.796941e+05</td>\n",
              "    </tr>\n",
              "    <tr>\n",
              "      <th>OUT027</th>\n",
              "      <td>3.453926e+06</td>\n",
              "    </tr>\n",
              "    <tr>\n",
              "      <th>OUT035</th>\n",
              "      <td>2.268123e+06</td>\n",
              "    </tr>\n",
              "    <tr>\n",
              "      <th>OUT045</th>\n",
              "      <td>2.036725e+06</td>\n",
              "    </tr>\n",
              "    <tr>\n",
              "      <th>OUT046</th>\n",
              "      <td>2.118395e+06</td>\n",
              "    </tr>\n",
              "    <tr>\n",
              "      <th>OUT049</th>\n",
              "      <td>2.183970e+06</td>\n",
              "    </tr>\n",
              "  </tbody>\n",
              "</table>\n",
              "</div>"
            ],
            "text/plain": [
              "                   Item_Outlet_Sales\n",
              "Outlet_Identifier                   \n",
              "OUT010                  1.883402e+05\n",
              "OUT013                  2.142664e+06\n",
              "OUT017                  2.167465e+06\n",
              "OUT018                  1.851823e+06\n",
              "OUT019                  1.796941e+05\n",
              "OUT027                  3.453926e+06\n",
              "OUT035                  2.268123e+06\n",
              "OUT045                  2.036725e+06\n",
              "OUT046                  2.118395e+06\n",
              "OUT049                  2.183970e+06"
            ]
          },
          "metadata": {
            "tags": []
          },
          "execution_count": 118
        }
      ]
    },
    {
      "cell_type": "code",
      "metadata": {
        "id": "oi1SNB6oREnY",
        "colab_type": "code",
        "colab": {
          "base_uri": "https://localhost:8080/",
          "height": 756
        },
        "outputId": "acad292e-564a-4aa8-f20c-27a58824aaa6"
      },
      "source": [
        "plot_identifier.plot(kind='bar',figsize = (15,12))\n",
        "plt.show()"
      ],
      "execution_count": 119,
      "outputs": [
        {
          "output_type": "display_data",
          "data": {
            "image/png": "[encoded data removed]",
            "text/plain": [
              "<Figure size 1080x864 with 1 Axes>"
            ]
          },
          "metadata": {
            "tags": [],
            "needs_background": "light"
          }
        }
      ]
    },
    {
      "cell_type": "code",
      "metadata": {
        "id": "rUAIXW-dEJ30",
        "colab_type": "code",
        "colab": {
          "base_uri": "https://localhost:8080/",
          "height": 867
        },
        "outputId": "0cff8515-0f98-405b-ea1b-475a43f6c715"
      },
      "source": [
        "'''\n",
        "Here we can see that Grocery Store's have low sales\n",
        "\n",
        "Supermarket Type 1 have the most number of Outlet's\n",
        "\n",
        "Supermarket Type 3 do highest sales\n",
        "\n",
        "'''\n",
        "\n",
        "data.pivot_table(values=['Item_Outlet_Sales'],index=['Outlet_Type','Outlet_Identifier'],aggfunc=np.sum).plot(kind='bar',figsize = (15,12))\n",
        "plt.show()"
      ],
      "execution_count": 120,
      "outputs": [
        {
          "output_type": "display_data",
          "data": {
            "image/png": "[encoded data removed]",
            "text/plain": [
              "<Figure size 1080x864 with 1 Axes>"
            ]
          },
          "metadata": {
            "tags": [],
            "needs_background": "light"
          }
        }
      ]
    },
    {
      "cell_type": "code",
      "metadata": {
        "id": "hQh-2gAUIEDS",
        "colab_type": "code",
        "colab": {
          "base_uri": "https://localhost:8080/",
          "height": 521
        },
        "outputId": "d7f289a2-cfb4-4868-a509-189cf853af9c"
      },
      "source": [
        "from PIL import Image as img\n",
        "img.open(\"/content/drive/My Drive/Dataset/Big Mart Sales/Outlet_type.png\")"
      ],
      "execution_count": 121,
      "outputs": [
        {
          "output_type": "execute_result",
          "data": {
            "image/png": "[encoded data removed]",
            "text/plain": [
              "<PIL.PngImagePlugin.PngImageFile image mode=RGBA size=980x524 at 0x7F1A0EF91550>"
            ]
          },
          "metadata": {
            "tags": []
          },
          "execution_count": 121
        }
      ]
    },
    {
      "cell_type": "code",
      "metadata": {
        "id": "KSu-kxp-QTbi",
        "colab_type": "code",
        "colab": {
          "base_uri": "https://localhost:8080/",
          "height": 390
        },
        "outputId": "1e98f77f-283c-400b-e424-64d751e96e48"
      },
      "source": [
        "data.pivot_table(values=['Item_Outlet_Sales'],index=['Outlet_Type','Outlet_Location_Type','Outlet_Size','Outlet_Identifier'],aggfunc=np.sum)"
      ],
      "execution_count": 122,
      "outputs": [
        {
          "output_type": "execute_result",
          "data": {
            "text/html": [
              "<div>\n",
              "<style scoped>\n",
              "    .dataframe tbody tr th:only-of-type {\n",
              "        vertical-align: middle;\n",
              "    }\n",
              "\n",
              "    .dataframe tbody tr th {\n",
              "        vertical-align: top;\n",
              "    }\n",
              "\n",
              "    .dataframe thead th {\n",
              "        text-align: right;\n",
              "    }\n",
              "</style>\n",
              "<table border=\"1\" class=\"dataframe\">\n",
              "  <thead>\n",
              "    <tr style=\"text-align: right;\">\n",
              "      <th></th>\n",
              "      <th></th>\n",
              "      <th></th>\n",
              "      <th></th>\n",
              "      <th>Item_Outlet_Sales</th>\n",
              "    </tr>\n",
              "    <tr>\n",
              "      <th>Outlet_Type</th>\n",
              "      <th>Outlet_Location_Type</th>\n",
              "      <th>Outlet_Size</th>\n",
              "      <th>Outlet_Identifier</th>\n",
              "      <th></th>\n",
              "    </tr>\n",
              "  </thead>\n",
              "  <tbody>\n",
              "    <tr>\n",
              "      <th rowspan=\"2\" valign=\"top\">Grocery Store</th>\n",
              "      <th>Tier 1</th>\n",
              "      <th>Small</th>\n",
              "      <th>OUT019</th>\n",
              "      <td>1.796941e+05</td>\n",
              "    </tr>\n",
              "    <tr>\n",
              "      <th>Tier 3</th>\n",
              "      <th>Medium</th>\n",
              "      <th>OUT010</th>\n",
              "      <td>1.883402e+05</td>\n",
              "    </tr>\n",
              "    <tr>\n",
              "      <th rowspan=\"6\" valign=\"top\">Supermarket Type1</th>\n",
              "      <th rowspan=\"2\" valign=\"top\">Tier 1</th>\n",
              "      <th>Medium</th>\n",
              "      <th>OUT049</th>\n",
              "      <td>2.183970e+06</td>\n",
              "    </tr>\n",
              "    <tr>\n",
              "      <th>Small</th>\n",
              "      <th>OUT046</th>\n",
              "      <td>2.118395e+06</td>\n",
              "    </tr>\n",
              "    <tr>\n",
              "      <th rowspan=\"3\" valign=\"top\">Tier 2</th>\n",
              "      <th rowspan=\"2\" valign=\"top\">Medium</th>\n",
              "      <th>OUT017</th>\n",
              "      <td>2.167465e+06</td>\n",
              "    </tr>\n",
              "    <tr>\n",
              "      <th>OUT045</th>\n",
              "      <td>2.036725e+06</td>\n",
              "    </tr>\n",
              "    <tr>\n",
              "      <th>Small</th>\n",
              "      <th>OUT035</th>\n",
              "      <td>2.268123e+06</td>\n",
              "    </tr>\n",
              "    <tr>\n",
              "      <th>Tier 3</th>\n",
              "      <th>High</th>\n",
              "      <th>OUT013</th>\n",
              "      <td>2.142664e+06</td>\n",
              "    </tr>\n",
              "    <tr>\n",
              "      <th>Supermarket Type2</th>\n",
              "      <th>Tier 3</th>\n",
              "      <th>Medium</th>\n",
              "      <th>OUT018</th>\n",
              "      <td>1.851823e+06</td>\n",
              "    </tr>\n",
              "    <tr>\n",
              "      <th>Supermarket Type3</th>\n",
              "      <th>Tier 3</th>\n",
              "      <th>Medium</th>\n",
              "      <th>OUT027</th>\n",
              "      <td>3.453926e+06</td>\n",
              "    </tr>\n",
              "  </tbody>\n",
              "</table>\n",
              "</div>"
            ],
            "text/plain": [
              "                                                                      Item_Outlet_Sales\n",
              "Outlet_Type       Outlet_Location_Type Outlet_Size Outlet_Identifier                   \n",
              "Grocery Store     Tier 1               Small       OUT019                  1.796941e+05\n",
              "                  Tier 3               Medium      OUT010                  1.883402e+05\n",
              "Supermarket Type1 Tier 1               Medium      OUT049                  2.183970e+06\n",
              "                                       Small       OUT046                  2.118395e+06\n",
              "                  Tier 2               Medium      OUT017                  2.167465e+06\n",
              "                                                   OUT045                  2.036725e+06\n",
              "                                       Small       OUT035                  2.268123e+06\n",
              "                  Tier 3               High        OUT013                  2.142664e+06\n",
              "Supermarket Type2 Tier 3               Medium      OUT018                  1.851823e+06\n",
              "Supermarket Type3 Tier 3               Medium      OUT027                  3.453926e+06"
            ]
          },
          "metadata": {
            "tags": []
          },
          "execution_count": 122
        }
      ]
    },
    {
      "cell_type": "code",
      "metadata": {
        "id": "NVC0dJvYS5fJ",
        "colab_type": "code",
        "colab": {
          "base_uri": "https://localhost:8080/",
          "height": 525
        },
        "outputId": "efb6d3bd-0528-4994-fe70-cfb710442b4e"
      },
      "source": [
        "img.open(\"/content/drive/My Drive/Dataset/Big Mart Sales/Outlet_size.png\")"
      ],
      "execution_count": 123,
      "outputs": [
        {
          "output_type": "execute_result",
          "data": {
            "image/png": "[encoded data removed]",
            "text/plain": [
              "<PIL.PngImagePlugin.PngImageFile image mode=RGBA size=989x533 at 0x7F1A0EF055F8>"
            ]
          },
          "metadata": {
            "tags": []
          },
          "execution_count": 123
        }
      ]
    },
    {
      "cell_type": "code",
      "metadata": {
        "id": "zyHEt9fRDfaE",
        "colab_type": "code",
        "colab": {
          "base_uri": "https://localhost:8080/",
          "height": 282
        },
        "outputId": "a0952108-4a98-4470-aac1-f9e99eab120e"
      },
      "source": [
        "plt.scatter(data.index, data['Item_MRP'])"
      ],
      "execution_count": 124,
      "outputs": [
        {
          "output_type": "execute_result",
          "data": {
            "text/plain": [
              "<matplotlib.collections.PathCollection at 0x7f1a0ed0a898>"
            ]
          },
          "metadata": {
            "tags": []
          },
          "execution_count": 124
        },
        {
          "output_type": "display_data",
          "data": {
            "image/png": "[encoded data removed]",
            "text/plain": [
              "<Figure size 432x288 with 1 Axes>"
            ]
          },
          "metadata": {
            "tags": [],
            "needs_background": "light"
          }
        }
      ]
    },
    {
      "cell_type": "code",
      "metadata": {
        "id": "poRxtZ8kDjr7",
        "colab_type": "code",
        "colab": {
          "base_uri": "https://localhost:8080/",
          "height": 282
        },
        "outputId": "6c2ade88-d0ed-4ef4-9901-abe0880baace"
      },
      "source": [
        "plt.scatter(data.index, data['Item_Weight'])"
      ],
      "execution_count": 125,
      "outputs": [
        {
          "output_type": "execute_result",
          "data": {
            "text/plain": [
              "<matplotlib.collections.PathCollection at 0x7f1a0ef36eb8>"
            ]
          },
          "metadata": {
            "tags": []
          },
          "execution_count": 125
        },
        {
          "output_type": "display_data",
          "data": {
            "image/png": "[encoded data removed]",
            "text/plain": [
              "<Figure size 432x288 with 1 Axes>"
            ]
          },
          "metadata": {
            "tags": [],
            "needs_background": "light"
          }
        }
      ]
    },
    {
      "cell_type": "code",
      "metadata": {
        "id": "b1xsm03cDl9W",
        "colab_type": "code",
        "colab": {
          "base_uri": "https://localhost:8080/",
          "height": 282
        },
        "outputId": "af885af5-1e69-4da4-b2c8-c4c5b33e9519"
      },
      "source": [
        "plt.scatter(data.index, data['Item_Visibility'])"
      ],
      "execution_count": 126,
      "outputs": [
        {
          "output_type": "execute_result",
          "data": {
            "text/plain": [
              "<matplotlib.collections.PathCollection at 0x7f1a0ed82d30>"
            ]
          },
          "metadata": {
            "tags": []
          },
          "execution_count": 126
        },
        {
          "output_type": "display_data",
          "data": {
            "image/png": "[encoded data removed]",
            "text/plain": [
              "<Figure size 432x288 with 1 Axes>"
            ]
          },
          "metadata": {
            "tags": [],
            "needs_background": "light"
          }
        }
      ]
    },
    {
      "cell_type": "code",
      "metadata": {
        "id": "YL5TUNcVDoHP",
        "colab_type": "code",
        "colab": {
          "base_uri": "https://localhost:8080/",
          "height": 282
        },
        "outputId": "33ad1370-0fb7-46e3-cc0f-1c70aedd92cd"
      },
      "source": [
        "plt.scatter(data['Item_Visibility'],data['Item_Outlet_Sales'])"
      ],
      "execution_count": 127,
      "outputs": [
        {
          "output_type": "execute_result",
          "data": {
            "text/plain": [
              "<matplotlib.collections.PathCollection at 0x7f1a0ec946d8>"
            ]
          },
          "metadata": {
            "tags": []
          },
          "execution_count": 127
        },
        {
          "output_type": "display_data",
          "data": {
            "image/png": "[encoded data removed]",
            "text/plain": [
              "<Figure size 432x288 with 1 Axes>"
            ]
          },
          "metadata": {
            "tags": [],
            "needs_background": "light"
          }
        }
      ]
    },
    {
      "cell_type": "code",
      "metadata": {
        "id": "xpv9Ftuna8b9",
        "colab_type": "code",
        "colab": {}
      },
      "source": [
        "data.drop(['Item_Identifier'],axis=1,inplace=True)"
      ],
      "execution_count": 128,
      "outputs": []
    },
    {
      "cell_type": "code",
      "metadata": {
        "id": "7gwbCOt2find",
        "colab_type": "code",
        "colab": {}
      },
      "source": [
        "data_copy = data.copy()"
      ],
      "execution_count": 129,
      "outputs": []
    },
    {
      "cell_type": "code",
      "metadata": {
        "id": "BKx3M07PdM2h",
        "colab_type": "code",
        "colab": {}
      },
      "source": [
        "data = data_copy.iloc[0:train.shape[0]]"
      ],
      "execution_count": 130,
      "outputs": []
    },
    {
      "cell_type": "code",
      "metadata": {
        "id": "3CJZ1xTmebtP",
        "colab_type": "code",
        "colab": {}
      },
      "source": [
        "test_data = data_copy.iloc[train.shape[0]:]"
      ],
      "execution_count": 131,
      "outputs": []
    },
    {
      "cell_type": "code",
      "metadata": {
        "id": "XGTNSQJ5fR_F",
        "colab_type": "code",
        "colab": {
          "base_uri": "https://localhost:8080/",
          "height": 34
        },
        "outputId": "219265eb-f732-4981-bc8c-5852167aa4c8"
      },
      "source": [
        "print(data.shape,test_data.shape)"
      ],
      "execution_count": 132,
      "outputs": [
        {
          "output_type": "stream",
          "text": [
            "(8523, 12) (5681, 12)\n"
          ],
          "name": "stdout"
        }
      ]
    },
    {
      "cell_type": "code",
      "metadata": {
        "id": "9AgP-kHmgEBi",
        "colab_type": "code",
        "colab": {
          "base_uri": "https://localhost:8080/",
          "height": 34
        },
        "outputId": "5347a4f3-cf7d-4853-ac78-98f0c926a86f"
      },
      "source": [
        "print(train.shape,test.shape)"
      ],
      "execution_count": 133,
      "outputs": [
        {
          "output_type": "stream",
          "text": [
            "(8523, 12) (5681, 11)\n"
          ],
          "name": "stdout"
        }
      ]
    },
    {
      "cell_type": "code",
      "metadata": {
        "id": "yWuFwRtV__nK",
        "colab_type": "code",
        "colab": {
          "base_uri": "https://localhost:8080/",
          "height": 34
        },
        "outputId": "b4ed3a4c-6dbf-464c-e2d9-c97c81bf50b6"
      },
      "source": [
        "df = data.copy()\n",
        "df.shape"
      ],
      "execution_count": 134,
      "outputs": [
        {
          "output_type": "execute_result",
          "data": {
            "text/plain": [
              "(8523, 12)"
            ]
          },
          "metadata": {
            "tags": []
          },
          "execution_count": 134
        }
      ]
    },
    {
      "cell_type": "code",
      "metadata": {
        "id": "0RkildbNP__x",
        "colab_type": "code",
        "colab": {
          "base_uri": "https://localhost:8080/",
          "height": 340
        },
        "outputId": "7dc35e59-8d79-4c7a-a17d-ede3bb29763d"
      },
      "source": [
        "data.info()"
      ],
      "execution_count": 135,
      "outputs": [
        {
          "output_type": "stream",
          "text": [
            "<class 'pandas.core.frame.DataFrame'>\n",
            "RangeIndex: 8523 entries, 0 to 8522\n",
            "Data columns (total 12 columns):\n",
            " #   Column                     Non-Null Count  Dtype  \n",
            "---  ------                     --------------  -----  \n",
            " 0   Item_Type_Combined         8523 non-null   object \n",
            " 1   Item_Type                  8523 non-null   object \n",
            " 2   Item_Fat_Content           8523 non-null   object \n",
            " 3   Item_Weight                8523 non-null   float64\n",
            " 4   Item_Visibility            8523 non-null   float64\n",
            " 5   Item_MRP                   8523 non-null   float64\n",
            " 6   Outlet_Identifier          8523 non-null   object \n",
            " 7   Outlet_Establishment_Year  8523 non-null   int64  \n",
            " 8   Outlet_Size                8523 non-null   object \n",
            " 9   Outlet_Location_Type       8523 non-null   object \n",
            " 10  Outlet_Type                8523 non-null   object \n",
            " 11  Item_Outlet_Sales          8523 non-null   float64\n",
            "dtypes: float64(4), int64(1), object(7)\n",
            "memory usage: 799.2+ KB\n"
          ],
          "name": "stdout"
        }
      ]
    },
    {
      "cell_type": "code",
      "metadata": {
        "id": "p18zPPs4NMrt",
        "colab_type": "code",
        "colab": {
          "base_uri": "https://localhost:8080/",
          "height": 139
        },
        "outputId": "222d5400-3296-41d2-d64e-18fec920785b"
      },
      "source": [
        "from sklearn import preprocessing\n",
        "encoder = preprocessing.LabelEncoder()\n",
        "\n",
        "for i in data.columns:\n",
        "    if isinstance(data[i][0], str):\n",
        "            data[i] = encoder.fit_transform(data[i])"
      ],
      "execution_count": 136,
      "outputs": [
        {
          "output_type": "stream",
          "text": [
            "/usr/local/lib/python3.6/dist-packages/ipykernel_launcher.py:6: SettingWithCopyWarning: \n",
            "A value is trying to be set on a copy of a slice from a DataFrame.\n",
            "Try using .loc[row_indexer,col_indexer] = value instead\n",
            "\n",
            "See the caveats in the documentation: https://pandas.pydata.org/pandas-docs/stable/user_guide/indexing.html#returning-a-view-versus-a-copy\n",
            "  \n"
          ],
          "name": "stderr"
        }
      ]
    },
    {
      "cell_type": "code",
      "metadata": {
        "id": "bgtHpeP6xbMd",
        "colab_type": "code",
        "colab": {
          "base_uri": "https://localhost:8080/",
          "height": 224
        },
        "outputId": "0386643b-114a-42fa-a4b4-d6f8720b4dd0"
      },
      "source": [
        "data.head()"
      ],
      "execution_count": 137,
      "outputs": [
        {
          "output_type": "execute_result",
          "data": {
            "text/html": [
              "<div>\n",
              "<style scoped>\n",
              "    .dataframe tbody tr th:only-of-type {\n",
              "        vertical-align: middle;\n",
              "    }\n",
              "\n",
              "    .dataframe tbody tr th {\n",
              "        vertical-align: top;\n",
              "    }\n",
              "\n",
              "    .dataframe thead th {\n",
              "        text-align: right;\n",
              "    }\n",
              "</style>\n",
              "<table border=\"1\" class=\"dataframe\">\n",
              "  <thead>\n",
              "    <tr style=\"text-align: right;\">\n",
              "      <th></th>\n",
              "      <th>Item_Type_Combined</th>\n",
              "      <th>Item_Type</th>\n",
              "      <th>Item_Fat_Content</th>\n",
              "      <th>Item_Weight</th>\n",
              "      <th>Item_Visibility</th>\n",
              "      <th>Item_MRP</th>\n",
              "      <th>Outlet_Identifier</th>\n",
              "      <th>Outlet_Establishment_Year</th>\n",
              "      <th>Outlet_Size</th>\n",
              "      <th>Outlet_Location_Type</th>\n",
              "      <th>Outlet_Type</th>\n",
              "      <th>Item_Outlet_Sales</th>\n",
              "    </tr>\n",
              "  </thead>\n",
              "  <tbody>\n",
              "    <tr>\n",
              "      <th>0</th>\n",
              "      <td>1</td>\n",
              "      <td>4</td>\n",
              "      <td>1</td>\n",
              "      <td>9.30</td>\n",
              "      <td>0.016047</td>\n",
              "      <td>249.8092</td>\n",
              "      <td>9</td>\n",
              "      <td>1999</td>\n",
              "      <td>1</td>\n",
              "      <td>0</td>\n",
              "      <td>1</td>\n",
              "      <td>3735.1380</td>\n",
              "    </tr>\n",
              "    <tr>\n",
              "      <th>1</th>\n",
              "      <td>0</td>\n",
              "      <td>14</td>\n",
              "      <td>2</td>\n",
              "      <td>5.92</td>\n",
              "      <td>0.019278</td>\n",
              "      <td>48.2692</td>\n",
              "      <td>3</td>\n",
              "      <td>2009</td>\n",
              "      <td>1</td>\n",
              "      <td>2</td>\n",
              "      <td>2</td>\n",
              "      <td>443.4228</td>\n",
              "    </tr>\n",
              "    <tr>\n",
              "      <th>2</th>\n",
              "      <td>1</td>\n",
              "      <td>10</td>\n",
              "      <td>1</td>\n",
              "      <td>17.50</td>\n",
              "      <td>0.016760</td>\n",
              "      <td>141.6180</td>\n",
              "      <td>9</td>\n",
              "      <td>1999</td>\n",
              "      <td>1</td>\n",
              "      <td>0</td>\n",
              "      <td>1</td>\n",
              "      <td>2097.2700</td>\n",
              "    </tr>\n",
              "    <tr>\n",
              "      <th>3</th>\n",
              "      <td>1</td>\n",
              "      <td>6</td>\n",
              "      <td>2</td>\n",
              "      <td>19.20</td>\n",
              "      <td>0.000000</td>\n",
              "      <td>182.0950</td>\n",
              "      <td>0</td>\n",
              "      <td>1998</td>\n",
              "      <td>1</td>\n",
              "      <td>2</td>\n",
              "      <td>0</td>\n",
              "      <td>732.3800</td>\n",
              "    </tr>\n",
              "    <tr>\n",
              "      <th>4</th>\n",
              "      <td>2</td>\n",
              "      <td>9</td>\n",
              "      <td>0</td>\n",
              "      <td>8.93</td>\n",
              "      <td>0.000000</td>\n",
              "      <td>53.8614</td>\n",
              "      <td>1</td>\n",
              "      <td>1987</td>\n",
              "      <td>0</td>\n",
              "      <td>2</td>\n",
              "      <td>1</td>\n",
              "      <td>994.7052</td>\n",
              "    </tr>\n",
              "  </tbody>\n",
              "</table>\n",
              "</div>"
            ],
            "text/plain": [
              "   Item_Type_Combined  Item_Type  ...  Outlet_Type  Item_Outlet_Sales\n",
              "0                   1          4  ...            1          3735.1380\n",
              "1                   0         14  ...            2           443.4228\n",
              "2                   1         10  ...            1          2097.2700\n",
              "3                   1          6  ...            0           732.3800\n",
              "4                   2          9  ...            1           994.7052\n",
              "\n",
              "[5 rows x 12 columns]"
            ]
          },
          "metadata": {
            "tags": []
          },
          "execution_count": 137
        }
      ]
    },
    {
      "cell_type": "code",
      "metadata": {
        "id": "JbqybF6UlPrF",
        "colab_type": "code",
        "colab": {
          "base_uri": "https://localhost:8080/",
          "height": 34
        },
        "outputId": "5985fea3-1b97-45e3-b8d5-3878d0e351a1"
      },
      "source": [
        "df.shape"
      ],
      "execution_count": 138,
      "outputs": [
        {
          "output_type": "execute_result",
          "data": {
            "text/plain": [
              "(8523, 12)"
            ]
          },
          "metadata": {
            "tags": []
          },
          "execution_count": 138
        }
      ]
    },
    {
      "cell_type": "code",
      "metadata": {
        "id": "UGgckBGIPbPF",
        "colab_type": "code",
        "colab": {}
      },
      "source": [
        "X = data.drop(['Item_Outlet_Sales'], axis=1)\n",
        "y = data['Item_Outlet_Sales']"
      ],
      "execution_count": 139,
      "outputs": []
    },
    {
      "cell_type": "code",
      "metadata": {
        "id": "0hvseUgXNQis",
        "colab_type": "code",
        "colab": {}
      },
      "source": [
        "#kiki = np.log(y)"
      ],
      "execution_count": 140,
      "outputs": []
    },
    {
      "cell_type": "code",
      "metadata": {
        "id": "B7OvM1UhPGtt",
        "colab_type": "code",
        "colab": {}
      },
      "source": [
        "from sklearn.model_selection import train_test_split\n",
        "x_train, x_test, y_train,y_test=train_test_split(X,y, train_size=0.8, random_state=20)"
      ],
      "execution_count": 141,
      "outputs": []
    },
    {
      "cell_type": "code",
      "metadata": {
        "id": "DQeAp8LiFxUA",
        "colab_type": "code",
        "colab": {}
      },
      "source": [
        "from sklearn.metrics import mean_squared_error,r2_score"
      ],
      "execution_count": 142,
      "outputs": []
    },
    {
      "cell_type": "code",
      "metadata": {
        "id": "yq8ZzO8MnU-o",
        "colab_type": "code",
        "colab": {
          "base_uri": "https://localhost:8080/",
          "height": 34
        },
        "outputId": "a1c0fa2b-84f9-47d8-ef02-1de245c12b4d"
      },
      "source": [
        "from sklearn.ensemble import RandomForestRegressor\n",
        "rf = RandomForestRegressor()\n",
        "rf.fit(x_train,y_train)\n",
        "data_rf = rf.score(x_test,y_test)*100\n",
        "data_rf"
      ],
      "execution_count": 143,
      "outputs": [
        {
          "output_type": "execute_result",
          "data": {
            "text/plain": [
              "56.93995412854178"
            ]
          },
          "metadata": {
            "tags": []
          },
          "execution_count": 143
        }
      ]
    },
    {
      "cell_type": "code",
      "metadata": {
        "id": "eQD1x-Suze0u",
        "colab_type": "code",
        "colab": {
          "base_uri": "https://localhost:8080/",
          "height": 34
        },
        "outputId": "4afff588-1e82-44d3-9bb5-99fa739be836"
      },
      "source": [
        "rf_best = RandomForestRegressor(n_estimators=200, bootstrap=True, min_samples_leaf=3, min_samples_split=8)\n",
        "rf_best.fit(x_train,y_train)\n",
        "data_rf_best = rf_best.score(x_test,y_test)*100\n",
        "data_rf_best"
      ],
      "execution_count": 144,
      "outputs": [
        {
          "output_type": "execute_result",
          "data": {
            "text/plain": [
              "58.12930359924371"
            ]
          },
          "metadata": {
            "tags": []
          },
          "execution_count": 144
        }
      ]
    },
    {
      "cell_type": "code",
      "metadata": {
        "id": "_q3flm23GOEs",
        "colab_type": "code",
        "colab": {
          "base_uri": "https://localhost:8080/",
          "height": 34
        },
        "outputId": "43a76280-cd96-4d9c-dc08-4230c3f2ac0b"
      },
      "source": [
        "mean_squared_error(y_test,rf_best.predict(x_test))"
      ],
      "execution_count": 145,
      "outputs": [
        {
          "output_type": "execute_result",
          "data": {
            "text/plain": [
              "1186363.183963701"
            ]
          },
          "metadata": {
            "tags": []
          },
          "execution_count": 145
        }
      ]
    },
    {
      "cell_type": "code",
      "metadata": {
        "id": "VgfXZKWwGbMU",
        "colab_type": "code",
        "colab": {
          "base_uri": "https://localhost:8080/",
          "height": 34
        },
        "outputId": "8e158413-a8f9-4e77-d482-ab28216675f2"
      },
      "source": [
        "r2_score(y_test,rf_best.predict(x_test))"
      ],
      "execution_count": 146,
      "outputs": [
        {
          "output_type": "execute_result",
          "data": {
            "text/plain": [
              "0.5812930359924371"
            ]
          },
          "metadata": {
            "tags": []
          },
          "execution_count": 146
        }
      ]
    },
    {
      "cell_type": "code",
      "metadata": {
        "id": "kmQ43sfqwYbL",
        "colab_type": "code",
        "colab": {
          "base_uri": "https://localhost:8080/",
          "height": 34
        },
        "outputId": "8089ff68-2655-41aa-832d-e334c740204a"
      },
      "source": [
        "from sklearn import linear_model as lm\n",
        "lg = lm.LinearRegression()\n",
        "lg.fit(x_train,y_train)\n",
        "data_lg = lg.score(x_test,y_test)*100\n",
        "data_lg"
      ],
      "execution_count": 147,
      "outputs": [
        {
          "output_type": "execute_result",
          "data": {
            "text/plain": [
              "51.80934905130255"
            ]
          },
          "metadata": {
            "tags": []
          },
          "execution_count": 147
        }
      ]
    },
    {
      "cell_type": "code",
      "metadata": {
        "id": "mY8LHMckGkJZ",
        "colab_type": "code",
        "colab": {
          "base_uri": "https://localhost:8080/",
          "height": 34
        },
        "outputId": "7eddcf3f-9166-4d4b-cedd-de32f4624fe0"
      },
      "source": [
        "mean_squared_error(y_test,lg.predict(x_test))"
      ],
      "execution_count": 148,
      "outputs": [
        {
          "output_type": "execute_result",
          "data": {
            "text/plain": [
              "1365432.6058868081"
            ]
          },
          "metadata": {
            "tags": []
          },
          "execution_count": 148
        }
      ]
    },
    {
      "cell_type": "code",
      "metadata": {
        "id": "Ka6uenbKymuk",
        "colab_type": "code",
        "colab": {
          "base_uri": "https://localhost:8080/",
          "height": 34
        },
        "outputId": "6411c955-4352-4065-ebb9-e731832ed1dd"
      },
      "source": [
        "lg.intercept_"
      ],
      "execution_count": 149,
      "outputs": [
        {
          "output_type": "execute_result",
          "data": {
            "text/plain": [
              "-1339.0679974644672"
            ]
          },
          "metadata": {
            "tags": []
          },
          "execution_count": 149
        }
      ]
    },
    {
      "cell_type": "code",
      "metadata": {
        "id": "RUoJAIubrxjn",
        "colab_type": "code",
        "colab": {
          "base_uri": "https://localhost:8080/",
          "height": 309
        },
        "outputId": "f8f633f7-e056-4d85-f9e1-a3c34d7868fb"
      },
      "source": [
        "df.head()"
      ],
      "execution_count": 150,
      "outputs": [
        {
          "output_type": "execute_result",
          "data": {
            "text/html": [
              "<div>\n",
              "<style scoped>\n",
              "    .dataframe tbody tr th:only-of-type {\n",
              "        vertical-align: middle;\n",
              "    }\n",
              "\n",
              "    .dataframe tbody tr th {\n",
              "        vertical-align: top;\n",
              "    }\n",
              "\n",
              "    .dataframe thead th {\n",
              "        text-align: right;\n",
              "    }\n",
              "</style>\n",
              "<table border=\"1\" class=\"dataframe\">\n",
              "  <thead>\n",
              "    <tr style=\"text-align: right;\">\n",
              "      <th></th>\n",
              "      <th>Item_Type_Combined</th>\n",
              "      <th>Item_Type</th>\n",
              "      <th>Item_Fat_Content</th>\n",
              "      <th>Item_Weight</th>\n",
              "      <th>Item_Visibility</th>\n",
              "      <th>Item_MRP</th>\n",
              "      <th>Outlet_Identifier</th>\n",
              "      <th>Outlet_Establishment_Year</th>\n",
              "      <th>Outlet_Size</th>\n",
              "      <th>Outlet_Location_Type</th>\n",
              "      <th>Outlet_Type</th>\n",
              "      <th>Item_Outlet_Sales</th>\n",
              "    </tr>\n",
              "  </thead>\n",
              "  <tbody>\n",
              "    <tr>\n",
              "      <th>0</th>\n",
              "      <td>Food</td>\n",
              "      <td>Dairy</td>\n",
              "      <td>Low Fat</td>\n",
              "      <td>9.30</td>\n",
              "      <td>0.016047</td>\n",
              "      <td>249.8092</td>\n",
              "      <td>OUT049</td>\n",
              "      <td>1999</td>\n",
              "      <td>Medium</td>\n",
              "      <td>Tier 1</td>\n",
              "      <td>Supermarket Type1</td>\n",
              "      <td>3735.1380</td>\n",
              "    </tr>\n",
              "    <tr>\n",
              "      <th>1</th>\n",
              "      <td>Drinks</td>\n",
              "      <td>Soft Drinks</td>\n",
              "      <td>Regular</td>\n",
              "      <td>5.92</td>\n",
              "      <td>0.019278</td>\n",
              "      <td>48.2692</td>\n",
              "      <td>OUT018</td>\n",
              "      <td>2009</td>\n",
              "      <td>Medium</td>\n",
              "      <td>Tier 3</td>\n",
              "      <td>Supermarket Type2</td>\n",
              "      <td>443.4228</td>\n",
              "    </tr>\n",
              "    <tr>\n",
              "      <th>2</th>\n",
              "      <td>Food</td>\n",
              "      <td>Meat</td>\n",
              "      <td>Low Fat</td>\n",
              "      <td>17.50</td>\n",
              "      <td>0.016760</td>\n",
              "      <td>141.6180</td>\n",
              "      <td>OUT049</td>\n",
              "      <td>1999</td>\n",
              "      <td>Medium</td>\n",
              "      <td>Tier 1</td>\n",
              "      <td>Supermarket Type1</td>\n",
              "      <td>2097.2700</td>\n",
              "    </tr>\n",
              "    <tr>\n",
              "      <th>3</th>\n",
              "      <td>Food</td>\n",
              "      <td>Fruits and Vegetables</td>\n",
              "      <td>Regular</td>\n",
              "      <td>19.20</td>\n",
              "      <td>0.000000</td>\n",
              "      <td>182.0950</td>\n",
              "      <td>OUT010</td>\n",
              "      <td>1998</td>\n",
              "      <td>Medium</td>\n",
              "      <td>Tier 3</td>\n",
              "      <td>Grocery Store</td>\n",
              "      <td>732.3800</td>\n",
              "    </tr>\n",
              "    <tr>\n",
              "      <th>4</th>\n",
              "      <td>Non-Consumable</td>\n",
              "      <td>Household</td>\n",
              "      <td>Household</td>\n",
              "      <td>8.93</td>\n",
              "      <td>0.000000</td>\n",
              "      <td>53.8614</td>\n",
              "      <td>OUT013</td>\n",
              "      <td>1987</td>\n",
              "      <td>High</td>\n",
              "      <td>Tier 3</td>\n",
              "      <td>Supermarket Type1</td>\n",
              "      <td>994.7052</td>\n",
              "    </tr>\n",
              "  </tbody>\n",
              "</table>\n",
              "</div>"
            ],
            "text/plain": [
              "  Item_Type_Combined  ... Item_Outlet_Sales\n",
              "0               Food  ...         3735.1380\n",
              "1             Drinks  ...          443.4228\n",
              "2               Food  ...         2097.2700\n",
              "3               Food  ...          732.3800\n",
              "4     Non-Consumable  ...          994.7052\n",
              "\n",
              "[5 rows x 12 columns]"
            ]
          },
          "metadata": {
            "tags": []
          },
          "execution_count": 150
        }
      ]
    },
    {
      "cell_type": "code",
      "metadata": {
        "id": "0KcojSQgAHpA",
        "colab_type": "code",
        "colab": {}
      },
      "source": [
        "df = pd.get_dummies(df)"
      ],
      "execution_count": 151,
      "outputs": []
    },
    {
      "cell_type": "code",
      "metadata": {
        "id": "6tHvZHppAV7e",
        "colab_type": "code",
        "colab": {
          "base_uri": "https://localhost:8080/",
          "height": 34
        },
        "outputId": "44024ba1-37d4-4351-fc29-12e192af22d6"
      },
      "source": [
        "df.shape"
      ],
      "execution_count": 152,
      "outputs": [
        {
          "output_type": "execute_result",
          "data": {
            "text/plain": [
              "(8523, 47)"
            ]
          },
          "metadata": {
            "tags": []
          },
          "execution_count": 152
        }
      ]
    },
    {
      "cell_type": "code",
      "metadata": {
        "id": "eXc_2DEZAw2m",
        "colab_type": "code",
        "colab": {}
      },
      "source": [
        "df_x = df.drop(['Item_Outlet_Sales'], axis=1)\n",
        "df_y = df['Item_Outlet_Sales']"
      ],
      "execution_count": 153,
      "outputs": []
    },
    {
      "cell_type": "code",
      "metadata": {
        "id": "EtDNgWXLNiNy",
        "colab_type": "code",
        "colab": {}
      },
      "source": [
        "#kiki_df = np.log(df_y)"
      ],
      "execution_count": 154,
      "outputs": []
    },
    {
      "cell_type": "code",
      "metadata": {
        "id": "P13VhZxbAjvM",
        "colab_type": "code",
        "colab": {}
      },
      "source": [
        "from sklearn.model_selection import train_test_split\n",
        "df_x_train, df_x_test, df_y_train,df_y_test=train_test_split(df_x,df_y, train_size=0.8, random_state=20)"
      ],
      "execution_count": 155,
      "outputs": []
    },
    {
      "cell_type": "code",
      "metadata": {
        "id": "yWWFPFm9AXMS",
        "colab_type": "code",
        "colab": {
          "base_uri": "https://localhost:8080/",
          "height": 34
        },
        "outputId": "4f509355-de5b-44ff-e19a-9d5307f70c8f"
      },
      "source": [
        "from sklearn.linear_model import LinearRegression\n",
        "lr = LinearRegression()\n",
        "lr.fit(df_x_train,df_y_train)\n",
        "df_lr = lr.score(df_x_test,df_y_test)*100\n",
        "df_lr"
      ],
      "execution_count": 156,
      "outputs": [
        {
          "output_type": "execute_result",
          "data": {
            "text/plain": [
              "56.77683660223134"
            ]
          },
          "metadata": {
            "tags": []
          },
          "execution_count": 156
        }
      ]
    },
    {
      "cell_type": "code",
      "metadata": {
        "id": "TVvIgT_0DLdm",
        "colab_type": "code",
        "colab": {
          "base_uri": "https://localhost:8080/",
          "height": 34
        },
        "outputId": "d4495994-28d8-4351-b719-957aa83437e8"
      },
      "source": [
        "lr.intercept_"
      ],
      "execution_count": 157,
      "outputs": [
        {
          "output_type": "execute_result",
          "data": {
            "text/plain": [
              "36881.21772461689"
            ]
          },
          "metadata": {
            "tags": []
          },
          "execution_count": 157
        }
      ]
    },
    {
      "cell_type": "code",
      "metadata": {
        "id": "kANv1B3lBLWA",
        "colab_type": "code",
        "colab": {
          "base_uri": "https://localhost:8080/",
          "height": 34
        },
        "outputId": "2b474ce7-ef9b-412f-da16-1a591d6087c5"
      },
      "source": [
        "from sklearn.ensemble import RandomForestRegressor\n",
        "df_best = RandomForestRegressor(n_estimators=200, bootstrap=True, min_samples_leaf=3, min_samples_split=8)\n",
        "df_best.fit(df_x_train,df_y_train)\n",
        "df_rf_best = df_best.score(df_x_test,df_y_test)*100\n",
        "df_rf_best"
      ],
      "execution_count": 158,
      "outputs": [
        {
          "output_type": "execute_result",
          "data": {
            "text/plain": [
              "58.00608543231475"
            ]
          },
          "metadata": {
            "tags": []
          },
          "execution_count": 158
        }
      ]
    },
    {
      "cell_type": "code",
      "metadata": {
        "id": "51NaieJCGv2d",
        "colab_type": "code",
        "colab": {
          "base_uri": "https://localhost:8080/",
          "height": 111
        },
        "outputId": "687ec14c-8f98-4a01-f59f-75ccff1742d6"
      },
      "source": [
        "index = ['Random Forest Regression','Linear Regression']\n",
        "result = {'Result 1' : [data_rf_best,data_lg] , \n",
        "'Result 2 ': [df_rf_best,df_lr]}\n",
        "\n",
        "results = pd.DataFrame(index=index, data=result)\n",
        "\n",
        "results"
      ],
      "execution_count": 159,
      "outputs": [
        {
          "output_type": "execute_result",
          "data": {
            "text/html": [
              "<div>\n",
              "<style scoped>\n",
              "    .dataframe tbody tr th:only-of-type {\n",
              "        vertical-align: middle;\n",
              "    }\n",
              "\n",
              "    .dataframe tbody tr th {\n",
              "        vertical-align: top;\n",
              "    }\n",
              "\n",
              "    .dataframe thead th {\n",
              "        text-align: right;\n",
              "    }\n",
              "</style>\n",
              "<table border=\"1\" class=\"dataframe\">\n",
              "  <thead>\n",
              "    <tr style=\"text-align: right;\">\n",
              "      <th></th>\n",
              "      <th>Result 1</th>\n",
              "      <th>Result 2</th>\n",
              "    </tr>\n",
              "  </thead>\n",
              "  <tbody>\n",
              "    <tr>\n",
              "      <th>Random Forest Regression</th>\n",
              "      <td>58.129304</td>\n",
              "      <td>58.006085</td>\n",
              "    </tr>\n",
              "    <tr>\n",
              "      <th>Linear Regression</th>\n",
              "      <td>51.809349</td>\n",
              "      <td>56.776837</td>\n",
              "    </tr>\n",
              "  </tbody>\n",
              "</table>\n",
              "</div>"
            ],
            "text/plain": [
              "                           Result 1  Result 2 \n",
              "Random Forest Regression  58.129304  58.006085\n",
              "Linear Regression         51.809349  56.776837"
            ]
          },
          "metadata": {
            "tags": []
          },
          "execution_count": 159
        }
      ]
    },
    {
      "cell_type": "code",
      "metadata": {
        "id": "zdkCKrnbljS9",
        "colab_type": "code",
        "colab": {
          "base_uri": "https://localhost:8080/",
          "height": 122
        },
        "outputId": "9ae17b93-db76-4562-f076-31bbf4a214d4"
      },
      "source": [
        "test_data = data_copy.iloc[train.shape[0]:]\n",
        "test_data.reset_index(drop=True,inplace=True)\n",
        "\n",
        "test_data.drop(['Item_Outlet_Sales'],axis=1,inplace=True)"
      ],
      "execution_count": 160,
      "outputs": [
        {
          "output_type": "stream",
          "text": [
            "/usr/local/lib/python3.6/dist-packages/pandas/core/frame.py:3997: SettingWithCopyWarning: \n",
            "A value is trying to be set on a copy of a slice from a DataFrame\n",
            "\n",
            "See the caveats in the documentation: https://pandas.pydata.org/pandas-docs/stable/user_guide/indexing.html#returning-a-view-versus-a-copy\n",
            "  errors=errors,\n"
          ],
          "name": "stderr"
        }
      ]
    },
    {
      "cell_type": "code",
      "metadata": {
        "id": "hheUwqrUqbVY",
        "colab_type": "code",
        "colab": {}
      },
      "source": [
        "test = test_data.copy()\n",
        "test.reset_index(drop=True,inplace=True)"
      ],
      "execution_count": 161,
      "outputs": []
    },
    {
      "cell_type": "code",
      "metadata": {
        "id": "PwNzj9Syna-O",
        "colab_type": "code",
        "colab": {
          "base_uri": "https://localhost:8080/",
          "height": 309
        },
        "outputId": "d160d043-d283-41c9-bad8-f5dd79f2c4ed"
      },
      "source": [
        "test_data.head()"
      ],
      "execution_count": 162,
      "outputs": [
        {
          "output_type": "execute_result",
          "data": {
            "text/html": [
              "<div>\n",
              "<style scoped>\n",
              "    .dataframe tbody tr th:only-of-type {\n",
              "        vertical-align: middle;\n",
              "    }\n",
              "\n",
              "    .dataframe tbody tr th {\n",
              "        vertical-align: top;\n",
              "    }\n",
              "\n",
              "    .dataframe thead th {\n",
              "        text-align: right;\n",
              "    }\n",
              "</style>\n",
              "<table border=\"1\" class=\"dataframe\">\n",
              "  <thead>\n",
              "    <tr style=\"text-align: right;\">\n",
              "      <th></th>\n",
              "      <th>Item_Type_Combined</th>\n",
              "      <th>Item_Type</th>\n",
              "      <th>Item_Fat_Content</th>\n",
              "      <th>Item_Weight</th>\n",
              "      <th>Item_Visibility</th>\n",
              "      <th>Item_MRP</th>\n",
              "      <th>Outlet_Identifier</th>\n",
              "      <th>Outlet_Establishment_Year</th>\n",
              "      <th>Outlet_Size</th>\n",
              "      <th>Outlet_Location_Type</th>\n",
              "      <th>Outlet_Type</th>\n",
              "    </tr>\n",
              "  </thead>\n",
              "  <tbody>\n",
              "    <tr>\n",
              "      <th>0</th>\n",
              "      <td>Food</td>\n",
              "      <td>Snack Foods</td>\n",
              "      <td>Low Fat</td>\n",
              "      <td>20.750000</td>\n",
              "      <td>0.007565</td>\n",
              "      <td>107.8622</td>\n",
              "      <td>OUT049</td>\n",
              "      <td>1999</td>\n",
              "      <td>Medium</td>\n",
              "      <td>Tier 1</td>\n",
              "      <td>Supermarket Type1</td>\n",
              "    </tr>\n",
              "    <tr>\n",
              "      <th>1</th>\n",
              "      <td>Food</td>\n",
              "      <td>Dairy</td>\n",
              "      <td>Regular</td>\n",
              "      <td>8.300000</td>\n",
              "      <td>0.038428</td>\n",
              "      <td>87.3198</td>\n",
              "      <td>OUT017</td>\n",
              "      <td>2007</td>\n",
              "      <td>Medium</td>\n",
              "      <td>Tier 2</td>\n",
              "      <td>Supermarket Type1</td>\n",
              "    </tr>\n",
              "    <tr>\n",
              "      <th>2</th>\n",
              "      <td>Non-Consumable</td>\n",
              "      <td>Others</td>\n",
              "      <td>Household</td>\n",
              "      <td>14.600000</td>\n",
              "      <td>0.099575</td>\n",
              "      <td>241.7538</td>\n",
              "      <td>OUT010</td>\n",
              "      <td>1998</td>\n",
              "      <td>Medium</td>\n",
              "      <td>Tier 3</td>\n",
              "      <td>Grocery Store</td>\n",
              "    </tr>\n",
              "    <tr>\n",
              "      <th>3</th>\n",
              "      <td>Food</td>\n",
              "      <td>Snack Foods</td>\n",
              "      <td>Low Fat</td>\n",
              "      <td>7.315000</td>\n",
              "      <td>0.015388</td>\n",
              "      <td>155.0340</td>\n",
              "      <td>OUT017</td>\n",
              "      <td>2007</td>\n",
              "      <td>Medium</td>\n",
              "      <td>Tier 2</td>\n",
              "      <td>Supermarket Type1</td>\n",
              "    </tr>\n",
              "    <tr>\n",
              "      <th>4</th>\n",
              "      <td>Food</td>\n",
              "      <td>Dairy</td>\n",
              "      <td>Regular</td>\n",
              "      <td>12.792854</td>\n",
              "      <td>0.118599</td>\n",
              "      <td>234.2300</td>\n",
              "      <td>OUT027</td>\n",
              "      <td>1985</td>\n",
              "      <td>Medium</td>\n",
              "      <td>Tier 3</td>\n",
              "      <td>Supermarket Type3</td>\n",
              "    </tr>\n",
              "  </tbody>\n",
              "</table>\n",
              "</div>"
            ],
            "text/plain": [
              "  Item_Type_Combined    Item_Type  ... Outlet_Location_Type        Outlet_Type\n",
              "0               Food  Snack Foods  ...               Tier 1  Supermarket Type1\n",
              "1               Food        Dairy  ...               Tier 2  Supermarket Type1\n",
              "2     Non-Consumable       Others  ...               Tier 3      Grocery Store\n",
              "3               Food  Snack Foods  ...               Tier 2  Supermarket Type1\n",
              "4               Food        Dairy  ...               Tier 3  Supermarket Type3\n",
              "\n",
              "[5 rows x 11 columns]"
            ]
          },
          "metadata": {
            "tags": []
          },
          "execution_count": 162
        }
      ]
    },
    {
      "cell_type": "code",
      "metadata": {
        "id": "KJxiR_UulLLN",
        "colab_type": "code",
        "colab": {}
      },
      "source": [
        "test_data = pd.get_dummies(test_data)"
      ],
      "execution_count": 163,
      "outputs": []
    },
    {
      "cell_type": "code",
      "metadata": {
        "id": "JIG7DtUemfgw",
        "colab_type": "code",
        "colab": {}
      },
      "source": [
        "test['Item_Outlet_Sales'] = df_best.predict(test_data)"
      ],
      "execution_count": 164,
      "outputs": []
    },
    {
      "cell_type": "code",
      "metadata": {
        "id": "zKgWa2Mgh4eU",
        "colab_type": "code",
        "colab": {
          "base_uri": "https://localhost:8080/",
          "height": 309
        },
        "outputId": "a3a84e09-9e98-417b-f091-680312efdba2"
      },
      "source": [
        "test.head()"
      ],
      "execution_count": 165,
      "outputs": [
        {
          "output_type": "execute_result",
          "data": {
            "text/html": [
              "<div>\n",
              "<style scoped>\n",
              "    .dataframe tbody tr th:only-of-type {\n",
              "        vertical-align: middle;\n",
              "    }\n",
              "\n",
              "    .dataframe tbody tr th {\n",
              "        vertical-align: top;\n",
              "    }\n",
              "\n",
              "    .dataframe thead th {\n",
              "        text-align: right;\n",
              "    }\n",
              "</style>\n",
              "<table border=\"1\" class=\"dataframe\">\n",
              "  <thead>\n",
              "    <tr style=\"text-align: right;\">\n",
              "      <th></th>\n",
              "      <th>Item_Type_Combined</th>\n",
              "      <th>Item_Type</th>\n",
              "      <th>Item_Fat_Content</th>\n",
              "      <th>Item_Weight</th>\n",
              "      <th>Item_Visibility</th>\n",
              "      <th>Item_MRP</th>\n",
              "      <th>Outlet_Identifier</th>\n",
              "      <th>Outlet_Establishment_Year</th>\n",
              "      <th>Outlet_Size</th>\n",
              "      <th>Outlet_Location_Type</th>\n",
              "      <th>Outlet_Type</th>\n",
              "      <th>Item_Outlet_Sales</th>\n",
              "    </tr>\n",
              "  </thead>\n",
              "  <tbody>\n",
              "    <tr>\n",
              "      <th>0</th>\n",
              "      <td>Food</td>\n",
              "      <td>Snack Foods</td>\n",
              "      <td>Low Fat</td>\n",
              "      <td>20.750000</td>\n",
              "      <td>0.007565</td>\n",
              "      <td>107.8622</td>\n",
              "      <td>OUT049</td>\n",
              "      <td>1999</td>\n",
              "      <td>Medium</td>\n",
              "      <td>Tier 1</td>\n",
              "      <td>Supermarket Type1</td>\n",
              "      <td>1741.494464</td>\n",
              "    </tr>\n",
              "    <tr>\n",
              "      <th>1</th>\n",
              "      <td>Food</td>\n",
              "      <td>Dairy</td>\n",
              "      <td>Regular</td>\n",
              "      <td>8.300000</td>\n",
              "      <td>0.038428</td>\n",
              "      <td>87.3198</td>\n",
              "      <td>OUT017</td>\n",
              "      <td>2007</td>\n",
              "      <td>Medium</td>\n",
              "      <td>Tier 2</td>\n",
              "      <td>Supermarket Type1</td>\n",
              "      <td>1256.976654</td>\n",
              "    </tr>\n",
              "    <tr>\n",
              "      <th>2</th>\n",
              "      <td>Non-Consumable</td>\n",
              "      <td>Others</td>\n",
              "      <td>Household</td>\n",
              "      <td>14.600000</td>\n",
              "      <td>0.099575</td>\n",
              "      <td>241.7538</td>\n",
              "      <td>OUT010</td>\n",
              "      <td>1998</td>\n",
              "      <td>Medium</td>\n",
              "      <td>Tier 3</td>\n",
              "      <td>Grocery Store</td>\n",
              "      <td>701.424780</td>\n",
              "    </tr>\n",
              "    <tr>\n",
              "      <th>3</th>\n",
              "      <td>Food</td>\n",
              "      <td>Snack Foods</td>\n",
              "      <td>Low Fat</td>\n",
              "      <td>7.315000</td>\n",
              "      <td>0.015388</td>\n",
              "      <td>155.0340</td>\n",
              "      <td>OUT017</td>\n",
              "      <td>2007</td>\n",
              "      <td>Medium</td>\n",
              "      <td>Tier 2</td>\n",
              "      <td>Supermarket Type1</td>\n",
              "      <td>2279.179985</td>\n",
              "    </tr>\n",
              "    <tr>\n",
              "      <th>4</th>\n",
              "      <td>Food</td>\n",
              "      <td>Dairy</td>\n",
              "      <td>Regular</td>\n",
              "      <td>12.792854</td>\n",
              "      <td>0.118599</td>\n",
              "      <td>234.2300</td>\n",
              "      <td>OUT027</td>\n",
              "      <td>1985</td>\n",
              "      <td>Medium</td>\n",
              "      <td>Tier 3</td>\n",
              "      <td>Supermarket Type3</td>\n",
              "      <td>6329.471877</td>\n",
              "    </tr>\n",
              "  </tbody>\n",
              "</table>\n",
              "</div>"
            ],
            "text/plain": [
              "  Item_Type_Combined    Item_Type  ...        Outlet_Type  Item_Outlet_Sales\n",
              "0               Food  Snack Foods  ...  Supermarket Type1        1741.494464\n",
              "1               Food        Dairy  ...  Supermarket Type1        1256.976654\n",
              "2     Non-Consumable       Others  ...      Grocery Store         701.424780\n",
              "3               Food  Snack Foods  ...  Supermarket Type1        2279.179985\n",
              "4               Food        Dairy  ...  Supermarket Type3        6329.471877\n",
              "\n",
              "[5 rows x 12 columns]"
            ]
          },
          "metadata": {
            "tags": []
          },
          "execution_count": 165
        }
      ]
    },
    {
      "cell_type": "code",
      "metadata": {
        "id": "2kxdnuaciBAa",
        "colab_type": "code",
        "colab": {}
      },
      "source": [
        "test.to_csv(\"predicated_big_mart_sales.csv\")"
      ],
      "execution_count": 166,
      "outputs": []
    },
    {
      "cell_type": "code",
      "metadata": {
        "id": "YrmcJe9Tr_Mj",
        "colab_type": "code",
        "colab": {
          "base_uri": "https://localhost:8080/",
          "height": 309
        },
        "outputId": "320982d6-4ae1-4bd3-cdec-4b181cf68416"
      },
      "source": [
        "data_copy.head()"
      ],
      "execution_count": 167,
      "outputs": [
        {
          "output_type": "execute_result",
          "data": {
            "text/html": [
              "<div>\n",
              "<style scoped>\n",
              "    .dataframe tbody tr th:only-of-type {\n",
              "        vertical-align: middle;\n",
              "    }\n",
              "\n",
              "    .dataframe tbody tr th {\n",
              "        vertical-align: top;\n",
              "    }\n",
              "\n",
              "    .dataframe thead th {\n",
              "        text-align: right;\n",
              "    }\n",
              "</style>\n",
              "<table border=\"1\" class=\"dataframe\">\n",
              "  <thead>\n",
              "    <tr style=\"text-align: right;\">\n",
              "      <th></th>\n",
              "      <th>Item_Type_Combined</th>\n",
              "      <th>Item_Type</th>\n",
              "      <th>Item_Fat_Content</th>\n",
              "      <th>Item_Weight</th>\n",
              "      <th>Item_Visibility</th>\n",
              "      <th>Item_MRP</th>\n",
              "      <th>Outlet_Identifier</th>\n",
              "      <th>Outlet_Establishment_Year</th>\n",
              "      <th>Outlet_Size</th>\n",
              "      <th>Outlet_Location_Type</th>\n",
              "      <th>Outlet_Type</th>\n",
              "      <th>Item_Outlet_Sales</th>\n",
              "    </tr>\n",
              "  </thead>\n",
              "  <tbody>\n",
              "    <tr>\n",
              "      <th>0</th>\n",
              "      <td>Food</td>\n",
              "      <td>Dairy</td>\n",
              "      <td>Low Fat</td>\n",
              "      <td>9.30</td>\n",
              "      <td>0.016047</td>\n",
              "      <td>249.8092</td>\n",
              "      <td>OUT049</td>\n",
              "      <td>1999</td>\n",
              "      <td>Medium</td>\n",
              "      <td>Tier 1</td>\n",
              "      <td>Supermarket Type1</td>\n",
              "      <td>3735.1380</td>\n",
              "    </tr>\n",
              "    <tr>\n",
              "      <th>1</th>\n",
              "      <td>Drinks</td>\n",
              "      <td>Soft Drinks</td>\n",
              "      <td>Regular</td>\n",
              "      <td>5.92</td>\n",
              "      <td>0.019278</td>\n",
              "      <td>48.2692</td>\n",
              "      <td>OUT018</td>\n",
              "      <td>2009</td>\n",
              "      <td>Medium</td>\n",
              "      <td>Tier 3</td>\n",
              "      <td>Supermarket Type2</td>\n",
              "      <td>443.4228</td>\n",
              "    </tr>\n",
              "    <tr>\n",
              "      <th>2</th>\n",
              "      <td>Food</td>\n",
              "      <td>Meat</td>\n",
              "      <td>Low Fat</td>\n",
              "      <td>17.50</td>\n",
              "      <td>0.016760</td>\n",
              "      <td>141.6180</td>\n",
              "      <td>OUT049</td>\n",
              "      <td>1999</td>\n",
              "      <td>Medium</td>\n",
              "      <td>Tier 1</td>\n",
              "      <td>Supermarket Type1</td>\n",
              "      <td>2097.2700</td>\n",
              "    </tr>\n",
              "    <tr>\n",
              "      <th>3</th>\n",
              "      <td>Food</td>\n",
              "      <td>Fruits and Vegetables</td>\n",
              "      <td>Regular</td>\n",
              "      <td>19.20</td>\n",
              "      <td>0.000000</td>\n",
              "      <td>182.0950</td>\n",
              "      <td>OUT010</td>\n",
              "      <td>1998</td>\n",
              "      <td>Medium</td>\n",
              "      <td>Tier 3</td>\n",
              "      <td>Grocery Store</td>\n",
              "      <td>732.3800</td>\n",
              "    </tr>\n",
              "    <tr>\n",
              "      <th>4</th>\n",
              "      <td>Non-Consumable</td>\n",
              "      <td>Household</td>\n",
              "      <td>Household</td>\n",
              "      <td>8.93</td>\n",
              "      <td>0.000000</td>\n",
              "      <td>53.8614</td>\n",
              "      <td>OUT013</td>\n",
              "      <td>1987</td>\n",
              "      <td>High</td>\n",
              "      <td>Tier 3</td>\n",
              "      <td>Supermarket Type1</td>\n",
              "      <td>994.7052</td>\n",
              "    </tr>\n",
              "  </tbody>\n",
              "</table>\n",
              "</div>"
            ],
            "text/plain": [
              "  Item_Type_Combined  ... Item_Outlet_Sales\n",
              "0               Food  ...         3735.1380\n",
              "1             Drinks  ...          443.4228\n",
              "2               Food  ...         2097.2700\n",
              "3               Food  ...          732.3800\n",
              "4     Non-Consumable  ...          994.7052\n",
              "\n",
              "[5 rows x 12 columns]"
            ]
          },
          "metadata": {
            "tags": []
          },
          "execution_count": 167
        }
      ]
    },
    {
      "cell_type": "code",
      "metadata": {
        "id": "TDPOUomn-Yyh",
        "colab_type": "code",
        "colab": {
          "base_uri": "https://localhost:8080/",
          "height": 34
        },
        "outputId": "e4b7a64f-63ce-45f9-cef1-14e37ad3f751"
      },
      "source": [
        "data_copy.shape"
      ],
      "execution_count": 168,
      "outputs": [
        {
          "output_type": "execute_result",
          "data": {
            "text/plain": [
              "(14204, 12)"
            ]
          },
          "metadata": {
            "tags": []
          },
          "execution_count": 168
        }
      ]
    },
    {
      "cell_type": "code",
      "metadata": {
        "id": "fyt1hcKXDXwf",
        "colab_type": "code",
        "colab": {}
      },
      "source": [
        ""
      ],
      "execution_count": 168,
      "outputs": []
    }
  ]
}